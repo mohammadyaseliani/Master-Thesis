{
 "cells": [
  {
   "cell_type": "code",
   "execution_count": 1,
   "metadata": {
    "id": "pOcABxXpdMfz"
   },
   "outputs": [],
   "source": [
    "from tensorflow.keras.models import Model\n",
    "from tensorflow.keras.preprocessing import image\n",
    "from tensorflow.keras.preprocessing.image import ImageDataGenerator\n",
    "from tensorflow.keras.models import Sequential\n",
    "from tensorflow.keras.layers import Input\n",
    "from glob import glob"
   ]
  },
  {
   "cell_type": "code",
   "execution_count": 3,
   "metadata": {
    "colab": {
     "base_uri": "https://localhost:8080/"
    },
    "id": "ubRFgu-QexhK",
    "outputId": "50354941-209b-439c-f666-f2a61b206007"
   },
   "outputs": [
    {
     "name": "stdout",
     "output_type": "stream",
     "text": [
      "Drive already mounted at /content/drive; to attempt to forcibly remount, call drive.mount(\"/content/drive\", force_remount=True).\n"
     ]
    }
   ],
   "source": [
    "from google.colab import drive\n",
    "drive.mount('/content/drive')"
   ]
  },
  {
   "cell_type": "code",
   "execution_count": 4,
   "metadata": {
    "id": "pBvGWp8KgEUH"
   },
   "outputs": [],
   "source": [
    "from keras.models import load_model\n",
    "network = load_model('/content/drive/MyDrive/ChestVGG_SGD.h5')"
   ]
  },
  {
   "cell_type": "code",
   "execution_count": 5,
   "metadata": {
    "colab": {
     "base_uri": "https://localhost:8080/"
    },
    "id": "9sxn4ZJGibzX",
    "outputId": "5d06ae74-78ab-4c6b-f2e1-74a1a67f946e"
   },
   "outputs": [
    {
     "data": {
      "text/plain": [
       "<KerasTensor: shape=(None, 7, 7, 1024) dtype=float32 (created by layer 'concatenate_11')>"
      ]
     },
     "execution_count": 5,
     "metadata": {},
     "output_type": "execute_result"
    }
   ],
   "source": [
    "network.layers[40].output"
   ]
  },
  {
   "cell_type": "code",
   "execution_count": 6,
   "metadata": {
    "id": "cBGlMfOidMiD"
   },
   "outputs": [],
   "source": [
    "from tensorflow.keras.layers import Input\n",
    "model = Model(inputs=network.input, outputs=network.layers[40].output)"
   ]
  },
  {
   "cell_type": "code",
   "execution_count": 7,
   "metadata": {
    "id": "QKTMN6puDIix"
   },
   "outputs": [],
   "source": [
    "train_path = '/content/drive/MyDrive/Dataset/train'\n",
    "test_path = '/content/drive/MyDrive/Dataset/test'"
   ]
  },
  {
   "cell_type": "code",
   "execution_count": 8,
   "metadata": {
    "colab": {
     "base_uri": "https://localhost:8080/"
    },
    "id": "KF7-ZO5yfAYl",
    "outputId": "3b9d7898-7b30-4f4c-ed3e-cd4d3c181586"
   },
   "outputs": [
    {
     "name": "stdout",
     "output_type": "stream",
     "text": [
      "2\n"
     ]
    }
   ],
   "source": [
    "folders = glob('/content/drive/MyDrive/Dataset/train/*')\n",
    "print(len(folders))"
   ]
  },
  {
   "cell_type": "code",
   "execution_count": 9,
   "metadata": {
    "id": "015znwZ7KGBc"
   },
   "outputs": [],
   "source": [
    "train_datagen = ImageDataGenerator(\n",
    "    rescale=1./255)"
   ]
  },
  {
   "cell_type": "code",
   "execution_count": 10,
   "metadata": {
    "id": "0we3EB_HKGGD"
   },
   "outputs": [],
   "source": [
    "test_datagen = ImageDataGenerator(\n",
    "    rescale=1./255)"
   ]
  },
  {
   "cell_type": "code",
   "execution_count": 11,
   "metadata": {
    "colab": {
     "base_uri": "https://localhost:8080/"
    },
    "id": "XGPlrCmmKGIb",
    "outputId": "a7a25b2c-2eb5-4abc-bd3b-e61f76d46362"
   },
   "outputs": [
    {
     "name": "stdout",
     "output_type": "stream",
     "text": [
      "Found 4686 images belonging to 2 classes.\n"
     ]
    }
   ],
   "source": [
    "train_set = train_datagen.flow_from_directory(train_path,\n",
    "                                                target_size = (224, 224),\n",
    "                                                batch_size=1,\n",
    "                                                shuffle=False,\n",
    "                                                 class_mode = 'categorical')"
   ]
  },
  {
   "cell_type": "code",
   "execution_count": 12,
   "metadata": {
    "colab": {
     "base_uri": "https://localhost:8080/"
    },
    "id": "pbKCyIJIKQm0",
    "outputId": "d21d38b2-b693-43c4-c384-a42564285a03"
   },
   "outputs": [
    {
     "name": "stdout",
     "output_type": "stream",
     "text": [
      "Found 1170 images belonging to 2 classes.\n"
     ]
    }
   ],
   "source": [
    "test_set = test_datagen.flow_from_directory(test_path,\n",
    "                                            target_size = (224, 224),\n",
    "                                            shuffle=False,\n",
    "                                            batch_size=1,\n",
    "                                            class_mode = 'categorical')"
   ]
  },
  {
   "cell_type": "code",
   "execution_count": 13,
   "metadata": {
    "colab": {
     "base_uri": "https://localhost:8080/"
    },
    "id": "fOTOlxZdfBrw",
    "outputId": "4c50cb60-2cdc-4741-fac0-a4475f82bced"
   },
   "outputs": [
    {
     "name": "stdout",
     "output_type": "stream",
     "text": [
      "4686/4686 [==============================] - 383s 75ms/step\n"
     ]
    }
   ],
   "source": [
    "features=model.predict(train_set, steps=4686, verbose=1)"
   ]
  },
  {
   "cell_type": "code",
   "execution_count": 14,
   "metadata": {
    "id": "P1Xo5HshfGe-"
   },
   "outputs": [],
   "source": [
    "features_flattened=[]\n",
    "for i in features:\n",
    "  a=i.ravel()\n",
    "  features_flattened.append(a)"
   ]
  },
  {
   "cell_type": "code",
   "execution_count": 15,
   "metadata": {
    "id": "HFSTVy4wfGhX"
   },
   "outputs": [],
   "source": [
    "from sklearn.svm import LinearSVC\n",
    "svc=LinearSVC(C=1, dual=False, max_iter=6000)\n",
    "model_svc=svc.fit(features_flattened, train_set.classes)"
   ]
  },
  {
   "cell_type": "code",
   "execution_count": 16,
   "metadata": {
    "colab": {
     "base_uri": "https://localhost:8080/"
    },
    "id": "DGa7KJSxfGjv",
    "outputId": "15fff65d-b11e-4d16-e83a-80f8f12d7b00"
   },
   "outputs": [
    {
     "name": "stdout",
     "output_type": "stream",
     "text": [
      "1170/1170 [==============================] - 88s 75ms/step\n"
     ]
    }
   ],
   "source": [
    "features_extracted_test=model.predict(test_set, steps=1170, verbose=1)"
   ]
  },
  {
   "cell_type": "code",
   "execution_count": 17,
   "metadata": {
    "id": "-IO_JMUZfGmd"
   },
   "outputs": [],
   "source": [
    "features_extracted_test_flattened=[]\n",
    "for i in features_extracted_test:\n",
    "  a=i.ravel()\n",
    "  features_extracted_test_flattened.append(a)"
   ]
  },
  {
   "cell_type": "code",
   "execution_count": 18,
   "metadata": {
    "id": "ojopZtIVfGow"
   },
   "outputs": [],
   "source": [
    "preds_svc=model_svc.predict(features_extracted_test_flattened)"
   ]
  },
  {
   "cell_type": "code",
   "execution_count": 19,
   "metadata": {
    "colab": {
     "base_uri": "https://localhost:8080/"
    },
    "id": "Wh_MQsxpfRjK",
    "outputId": "aeda8a4f-9d1f-4ab6-f19c-694e460a29f0"
   },
   "outputs": [
    {
     "name": "stdout",
     "output_type": "stream",
     "text": [
      "[[304  12]\n",
      " [ 10 844]]\n"
     ]
    },
    {
     "data": {
      "text/plain": [
       "0.9811965811965812"
      ]
     },
     "execution_count": 19,
     "metadata": {},
     "output_type": "execute_result"
    }
   ],
   "source": [
    "from sklearn.metrics import confusion_matrix\n",
    "from sklearn.metrics import classification_report\n",
    "y_test=test_set.classes\n",
    "cf_matrix=confusion_matrix(y_test, preds_svc)\n",
    "print(cf_matrix)\n",
    "from sklearn.metrics import accuracy_score\n",
    "accuracy_score(y_test, preds_svc)"
   ]
  },
  {
   "cell_type": "code",
   "execution_count": 20,
   "metadata": {
    "id": "25ORflOtfRqn"
   },
   "outputs": [],
   "source": [
    "from sklearn.ensemble import RandomForestClassifier\n",
    "random_forest=RandomForestClassifier(random_state=0)\n",
    "model_RF=random_forest.fit(features_flattened, train_set.classes)\n"
   ]
  },
  {
   "cell_type": "code",
   "execution_count": 21,
   "metadata": {
    "id": "xW9X-9_4f33N"
   },
   "outputs": [],
   "source": [
    "preds_RF=model_RF.predict(features_extracted_test_flattened)"
   ]
  },
  {
   "cell_type": "code",
   "execution_count": 22,
   "metadata": {
    "colab": {
     "base_uri": "https://localhost:8080/"
    },
    "id": "LeELzv-dfxdH",
    "outputId": "bf674e39-d5d7-43d3-8dc1-cf570db3d183"
   },
   "outputs": [
    {
     "name": "stdout",
     "output_type": "stream",
     "text": [
      "[[297  19]\n",
      " [  8 846]]\n"
     ]
    },
    {
     "data": {
      "text/plain": [
       "0.9769230769230769"
      ]
     },
     "execution_count": 22,
     "metadata": {},
     "output_type": "execute_result"
    }
   ],
   "source": [
    "from sklearn.metrics import confusion_matrix\n",
    "from sklearn.metrics import classification_report\n",
    "y_test=test_set.classes\n",
    "cf_matrix=confusion_matrix(y_test, preds_RF)\n",
    "print(cf_matrix)\n",
    "from sklearn.metrics import accuracy_score\n",
    "accuracy_score(y_test, preds_RF)"
   ]
  },
  {
   "cell_type": "code",
   "execution_count": 23,
   "metadata": {
    "id": "m-juP1jVfxfP"
   },
   "outputs": [],
   "source": [
    "from sklearn.linear_model import LogisticRegression\n",
    "logit=LogisticRegression(random_state=0, max_iter=6000)\n",
    "model_logit=logit.fit(features_flattened, train_set.classes)\n"
   ]
  },
  {
   "cell_type": "code",
   "execution_count": 24,
   "metadata": {
    "id": "8C6R33iLfxhp"
   },
   "outputs": [],
   "source": [
    "preds_logit=model_logit.predict(features_extracted_test_flattened)"
   ]
  },
  {
   "cell_type": "code",
   "execution_count": 25,
   "metadata": {
    "colab": {
     "base_uri": "https://localhost:8080/"
    },
    "id": "Ysn5485Afxj0",
    "outputId": "5235c1d1-a707-42bf-ce32-85026ff32335"
   },
   "outputs": [
    {
     "name": "stdout",
     "output_type": "stream",
     "text": [
      "[[303  13]\n",
      " [ 10 844]]\n"
     ]
    },
    {
     "data": {
      "text/plain": [
       "0.9803418803418803"
      ]
     },
     "execution_count": 25,
     "metadata": {},
     "output_type": "execute_result"
    }
   ],
   "source": [
    "from sklearn.metrics import confusion_matrix\n",
    "from sklearn.metrics import classification_report\n",
    "y_test=test_set.classes\n",
    "cf_matrix=confusion_matrix(y_test, preds_logit)\n",
    "print(cf_matrix)\n",
    "from sklearn.metrics import accuracy_score\n",
    "accuracy_score(y_test, preds_logit)"
   ]
  },
  {
   "cell_type": "code",
   "execution_count": 26,
   "metadata": {
    "id": "_RtM4IyYokjm"
   },
   "outputs": [],
   "source": [
    "from sklearn.neighbors import KNeighborsClassifier\n",
    "knn_optimized=KNeighborsClassifier(n_neighbors=5).fit(features_flattened, train_set.classes)"
   ]
  },
  {
   "cell_type": "code",
   "execution_count": 27,
   "metadata": {
    "id": "j_AT6Bzloklw"
   },
   "outputs": [],
   "source": [
    "preds_knn=knn_optimized.predict(features_extracted_test_flattened)"
   ]
  },
  {
   "cell_type": "code",
   "execution_count": 28,
   "metadata": {
    "colab": {
     "base_uri": "https://localhost:8080/"
    },
    "id": "hSPXjUEZokwr",
    "outputId": "db7bfe07-0494-4cff-84ff-22d2c977d0a7"
   },
   "outputs": [
    {
     "name": "stdout",
     "output_type": "stream",
     "text": [
      "[[301  15]\n",
      " [ 10 844]]\n"
     ]
    },
    {
     "data": {
      "text/plain": [
       "0.9786324786324786"
      ]
     },
     "execution_count": 28,
     "metadata": {},
     "output_type": "execute_result"
    }
   ],
   "source": [
    "from sklearn.metrics import confusion_matrix\n",
    "from sklearn.metrics import classification_report\n",
    "y_test=test_set.classes\n",
    "cf_matrix=confusion_matrix(y_test, preds_knn)\n",
    "print(cf_matrix)\n",
    "from sklearn.metrics import accuracy_score\n",
    "accuracy_score(y_test, preds_knn)"
   ]
  },
  {
   "cell_type": "code",
   "execution_count": 29,
   "metadata": {
    "id": "8HsE7XPLgAwf"
   },
   "outputs": [],
   "source": [
    "from sklearn.naive_bayes import GaussianNB\n",
    "classifier_NB=GaussianNB()\n",
    "model_NB=classifier_NB.fit(features_flattened, train_set.classes)"
   ]
  },
  {
   "cell_type": "code",
   "execution_count": 30,
   "metadata": {
    "id": "iEcn2mcZgJJP"
   },
   "outputs": [],
   "source": [
    "preds_NB=model_NB.predict(features_extracted_test_flattened)"
   ]
  },
  {
   "cell_type": "code",
   "execution_count": 31,
   "metadata": {
    "colab": {
     "base_uri": "https://localhost:8080/"
    },
    "id": "GtKwD6USgJLb",
    "outputId": "6c39ef09-71e1-4a47-9512-fc4f68b96d4d"
   },
   "outputs": [
    {
     "name": "stdout",
     "output_type": "stream",
     "text": [
      "[[246  70]\n",
      " [ 18 836]]\n"
     ]
    },
    {
     "data": {
      "text/plain": [
       "0.9247863247863248"
      ]
     },
     "execution_count": 31,
     "metadata": {},
     "output_type": "execute_result"
    }
   ],
   "source": [
    "from sklearn.metrics import confusion_matrix\n",
    "from sklearn.metrics import classification_report\n",
    "y_test=test_set.classes\n",
    "cf_matrix=confusion_matrix(y_test, preds_NB)\n",
    "print(cf_matrix)\n",
    "from sklearn.metrics import accuracy_score\n",
    "accuracy_score(y_test, preds_NB)"
   ]
  },
  {
   "cell_type": "code",
   "execution_count": 37,
   "metadata": {
    "colab": {
     "base_uri": "https://localhost:8080/"
    },
    "id": "c0UapCcujTtm",
    "outputId": "83817bb6-3d2b-4bf7-8c40-bfed70c2662f"
   },
   "outputs": [
    {
     "name": "stdout",
     "output_type": "stream",
     "text": [
      "1170/1170 [==============================] - 98s 83ms/step\n"
     ]
    }
   ],
   "source": [
    "preds_CNN=[]\n",
    "predictions=network.predict(test_set, steps=1170, verbose=1)\n",
    "for i in range(len(predictions)):\n",
    "    if predictions[i][0]>predictions[i][1]:\n",
    "      preds_CNN.append(0)\n",
    "    else:\n",
    "      preds_CNN.append(1)"
   ]
  },
  {
   "cell_type": "code",
   "execution_count": 41,
   "metadata": {
    "id": "lftD9YDmNfKj"
   },
   "outputs": [],
   "source": [
    "preds=[preds_CNN, preds_svc, preds_RF, preds_logit, preds_knn]"
   ]
  },
  {
   "cell_type": "code",
   "execution_count": 42,
   "metadata": {
    "id": "tJEm3RBYN56t"
   },
   "outputs": [],
   "source": [
    "true_negative=0\n",
    "false_negative=0\n",
    "false_positive=0\n",
    "true_positive=0\n",
    "for i in range (len(test_set)):\n",
    "  A=0\n",
    "  B=0\n",
    "  C=0\n",
    "  D=0\n",
    "  if y_test[i]==0:\n",
    "    for pred in preds:\n",
    "        if pred[i]==0:\n",
    "          A+=1\n",
    "        else:\n",
    "          B+=1\n",
    "    if A > B:\n",
    "      true_negative+=1\n",
    "    else: \n",
    "      false_positive+=1\n",
    "  else:\n",
    "    for pred in preds:\n",
    "        if pred[i]==0:\n",
    "          C+=1\n",
    "        else:\n",
    "          D+=1\n",
    "    if C > D:\n",
    "      false_negative+=1\n",
    "    else: \n",
    "      true_positive+=1"
   ]
  },
  {
   "cell_type": "code",
   "execution_count": 43,
   "metadata": {
    "colab": {
     "base_uri": "https://localhost:8080/"
    },
    "id": "Fvb08Zl8c-X_",
    "outputId": "1dfbd2a7-49a7-4da8-bf19-fbb01cad0338"
   },
   "outputs": [
    {
     "name": "stdout",
     "output_type": "stream",
     "text": [
      "TN: 303\n",
      "FN: 8\n",
      "TP: 846\n",
      "FP: 13\n"
     ]
    }
   ],
   "source": [
    "print('TN:', true_negative)\n",
    "print('FN:', false_negative)\n",
    "print('TP:' ,true_positive)\n",
    "print('FP:', false_positive)"
   ]
  },
  {
   "cell_type": "code",
   "execution_count": 106,
   "metadata": {
    "colab": {
     "base_uri": "https://localhost:8080/",
     "height": 312
    },
    "id": "h2jsaVzBqZs6",
    "outputId": "1e208d4c-8e20-44ec-b4c6-ae6c28f8e36e"
   },
   "outputs": [
    {
     "data": {
      "text/plain": [
       "[Text(0, 0.5, 'Normal'), Text(0, 1.5, 'Pneumonia')]"
      ]
     },
     "execution_count": 106,
     "metadata": {},
     "output_type": "execute_result"
    },
    {
     "data": {
      "image/png": "[encoded data removed]",
      "text/plain": [
       "<Figure size 432x288 with 2 Axes>"
      ]
     },
     "metadata": {
      "needs_background": "light"
     },
     "output_type": "display_data"
    }
   ],
   "source": [
    "matrix=[[303,13],\n",
    "        [8, 846]]\n",
    "\n",
    "import seaborn as sns\n",
    "import matplotlib.pyplot as plt\n",
    "ax=plt.subplot()\n",
    "sns.heatmap(matrix, cmap='Blues', annot=True, linewidths=1, fmt = 'd', ax=ax)\n",
    "ax.set_xlabel('Predicted Label');ax.set_ylabel('Ground Truth Label')\n",
    "ax.set_title('Confusion Matrix')\n",
    "ax.xaxis.set_ticklabels(['Normal', 'Pneumonia']); ax.yaxis.set_ticklabels(['Normal', 'Pneumonia'])"
   ]
  }
 ],
 "metadata": {
  "accelerator": "GPU",
  "colab": {
   "collapsed_sections": [],
   "name": "Chest_VGG_SGD_MachineLearningClassifiers_UpdatedImageNetWeights.ipynb",
   "provenance": []
  },
  "kernelspec": {
   "display_name": "Python 3",
   "language": "python",
   "name": "python3"
  },
  "language_info": {
   "codemirror_mode": {
    "name": "ipython",
    "version": 3
   },
   "file_extension": ".py",
   "mimetype": "text/x-python",
   "name": "python",
   "nbconvert_exporter": "python",
   "pygments_lexer": "ipython3",
   "version": "3.8.5"
  }
 },
 "nbformat": 4,
 "nbformat_minor": 1
}
