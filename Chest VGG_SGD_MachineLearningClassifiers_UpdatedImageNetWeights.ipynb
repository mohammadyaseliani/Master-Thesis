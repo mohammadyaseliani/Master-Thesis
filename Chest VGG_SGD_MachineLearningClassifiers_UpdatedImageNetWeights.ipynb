{
  "nbformat": 4,
  "nbformat_minor": 0,
  "metadata": {
    "colab": {
      "name": "Chest_VGG_SGD_MachineLearningClassifiers_UpdatedImageNetWeights (2).ipynb",
      "provenance": [],
      "collapsed_sections": []
    },
    "kernelspec": {
      "display_name": "Python 3",
      "language": "python",
      "name": "python3"
    },
    "language_info": {
      "codemirror_mode": {
        "name": "ipython",
        "version": 3
      },
      "file_extension": ".py",
      "mimetype": "text/x-python",
      "name": "python",
      "nbconvert_exporter": "python",
      "pygments_lexer": "ipython3",
      "version": "3.8.5"
    },
    "accelerator": "GPU"
  },
  "cells": [
    {
      "cell_type": "code",
      "metadata": {
        "id": "pOcABxXpdMfz"
      },
      "source": [
        "from tensorflow.keras.models import Model\n",
        "from tensorflow.keras.preprocessing import image\n",
        "from tensorflow.keras.preprocessing.image import ImageDataGenerator\n",
        "from tensorflow.keras.models import Sequential\n",
        "from tensorflow.keras.layers import Input\n",
        "from glob import glob"
      ],
      "execution_count": 1,
      "outputs": []
    },
    {
      "cell_type": "code",
      "metadata": {
        "colab": {
          "base_uri": "https://localhost:8080/"
        },
        "id": "ubRFgu-QexhK",
        "outputId": "eb7f0ca8-666f-4fc5-a278-3b7cf5563ee3"
      },
      "source": [
        "from google.colab import drive\n",
        "drive.mount('/content/drive')"
      ],
      "execution_count": 3,
      "outputs": [
        {
          "output_type": "stream",
          "name": "stdout",
          "text": [
            "Mounted at /content/drive\n"
          ]
        }
      ]
    },
    {
      "cell_type": "code",
      "metadata": {
        "id": "pBvGWp8KgEUH"
      },
      "source": [
        "from keras.models import load_model\n",
        "network = load_model('/content/drive/MyDrive/ChestVGG_SGD.h5')"
      ],
      "execution_count": 4,
      "outputs": []
    },
    {
      "cell_type": "code",
      "metadata": {
        "colab": {
          "base_uri": "https://localhost:8080/"
        },
        "id": "9sxn4ZJGibzX",
        "outputId": "81e68ae0-555c-41dc-9665-0680676b8fb5"
      },
      "source": [
        "network.layers[40].output"
      ],
      "execution_count": 5,
      "outputs": [
        {
          "output_type": "execute_result",
          "data": {
            "text/plain": [
              "<KerasTensor: shape=(None, 7, 7, 1024) dtype=float32 (created by layer 'concatenate_11')>"
            ]
          },
          "metadata": {},
          "execution_count": 5
        }
      ]
    },
    {
      "cell_type": "code",
      "metadata": {
        "id": "cBGlMfOidMiD"
      },
      "source": [
        "from tensorflow.keras.layers import Input\n",
        "model = Model(inputs=network.input, outputs=network.layers[40].output)"
      ],
      "execution_count": 6,
      "outputs": []
    },
    {
      "cell_type": "code",
      "metadata": {
        "id": "QKTMN6puDIix"
      },
      "source": [
        "train_path = '/content/drive/MyDrive/Dataset/train'\n",
        "test_path = '/content/drive/MyDrive/Dataset/test'"
      ],
      "execution_count": 7,
      "outputs": []
    },
    {
      "cell_type": "code",
      "metadata": {
        "colab": {
          "base_uri": "https://localhost:8080/"
        },
        "id": "KF7-ZO5yfAYl",
        "outputId": "4e34dfb1-a97d-4e40-c21f-08014237ef0c"
      },
      "source": [
        "folders = glob('/content/drive/MyDrive/Dataset/train/*')\n",
        "print(len(folders))"
      ],
      "execution_count": 8,
      "outputs": [
        {
          "output_type": "stream",
          "name": "stdout",
          "text": [
            "2\n"
          ]
        }
      ]
    },
    {
      "cell_type": "code",
      "metadata": {
        "id": "015znwZ7KGBc"
      },
      "source": [
        "\n",
        "train_datagen = ImageDataGenerator(\n",
        "    rescale=1./255)"
      ],
      "execution_count": 12,
      "outputs": []
    },
    {
      "cell_type": "code",
      "metadata": {
        "id": "0we3EB_HKGGD"
      },
      "source": [
        "\n",
        "test_datagen = ImageDataGenerator(\n",
        "    rescale=1./255)"
      ],
      "execution_count": 13,
      "outputs": []
    },
    {
      "cell_type": "code",
      "metadata": {
        "colab": {
          "base_uri": "https://localhost:8080/"
        },
        "id": "XGPlrCmmKGIb",
        "outputId": "63d02e93-395c-4c9d-ac34-e6eeba0988c5"
      },
      "source": [
        "\n",
        "train_set = train_datagen.flow_from_directory(train_path,\n",
        "                                                target_size = (224, 224),\n",
        "                                                batch_size=1,\n",
        "                                                shuffle=False,\n",
        "                                                 class_mode = 'categorical')"
      ],
      "execution_count": 14,
      "outputs": [
        {
          "output_type": "stream",
          "name": "stdout",
          "text": [
            "Found 4686 images belonging to 2 classes.\n"
          ]
        }
      ]
    },
    {
      "cell_type": "code",
      "metadata": {
        "colab": {
          "base_uri": "https://localhost:8080/"
        },
        "id": "pbKCyIJIKQm0",
        "outputId": "3c369546-d61f-42d2-ef0f-ccefdd49295c"
      },
      "source": [
        "\n",
        "test_set = test_datagen.flow_from_directory(test_path,\n",
        "                                            target_size = (224, 224),\n",
        "                                            shuffle=False,\n",
        "                                            batch_size=1,\n",
        "                                            class_mode = 'categorical')"
      ],
      "execution_count": 15,
      "outputs": [
        {
          "output_type": "stream",
          "name": "stdout",
          "text": [
            "Found 1170 images belonging to 2 classes.\n"
          ]
        }
      ]
    },
    {
      "cell_type": "code",
      "metadata": {
        "colab": {
          "base_uri": "https://localhost:8080/"
        },
        "id": "fOTOlxZdfBrw",
        "outputId": "c7c0a3ff-416d-4289-bada-c6d7985b2962"
      },
      "source": [
        "\n",
        "features=model.predict(train_set, steps=4686, verbose=1)"
      ],
      "execution_count": 16,
      "outputs": [
        {
          "output_type": "stream",
          "name": "stdout",
          "text": [
            "4686/4686 [==============================] - 2408s 508ms/step\n"
          ]
        }
      ]
    },
    {
      "cell_type": "code",
      "metadata": {
        "id": "P1Xo5HshfGe-"
      },
      "source": [
        "\n",
        "features_flattened=[]\n",
        "for i in features:\n",
        "  a=i.ravel()\n",
        "  features_flattened.append(a)"
      ],
      "execution_count": 17,
      "outputs": []
    },
    {
      "cell_type": "code",
      "metadata": {
        "id": "HFSTVy4wfGhX"
      },
      "source": [
        "\n",
        "from sklearn.svm import LinearSVC\n",
        "svc=LinearSVC(C=1, dual=False, max_iter=6000)\n",
        "model_svc=svc.fit(features_flattened, train_set.classes)"
      ],
      "execution_count": 20,
      "outputs": []
    },
    {
      "cell_type": "code",
      "metadata": {
        "colab": {
          "base_uri": "https://localhost:8080/"
        },
        "id": "DGa7KJSxfGjv",
        "outputId": "34fe6962-c9f6-4b28-f049-8f4cbc95edab"
      },
      "source": [
        "\n",
        "features_extracted_test=model.predict(test_set, steps=1170, verbose=1)"
      ],
      "execution_count": 19,
      "outputs": [
        {
          "output_type": "stream",
          "name": "stdout",
          "text": [
            "1170/1170 [==============================] - 572s 489ms/step\n"
          ]
        }
      ]
    },
    {
      "cell_type": "code",
      "metadata": {
        "id": "-IO_JMUZfGmd"
      },
      "source": [
        "\n",
        "features_extracted_test_flattened=[]\n",
        "for i in features_extracted_test:\n",
        "  a=i.ravel()\n",
        "  features_extracted_test_flattened.append(a)"
      ],
      "execution_count": 21,
      "outputs": []
    },
    {
      "cell_type": "code",
      "metadata": {
        "id": "ojopZtIVfGow"
      },
      "source": [
        "\n",
        "preds_svc=model_svc.predict(features_extracted_test_flattened)"
      ],
      "execution_count": 22,
      "outputs": []
    },
    {
      "cell_type": "code",
      "metadata": {
        "colab": {
          "base_uri": "https://localhost:8080/"
        },
        "id": "Wh_MQsxpfRjK",
        "outputId": "27cecf0d-1222-48f5-97fd-65d85e513f42"
      },
      "source": [
        "\n",
        "from sklearn.metrics import confusion_matrix\n",
        "from sklearn.metrics import classification_report\n",
        "y_test=test_set.classes\n",
        "cf_matrix=confusion_matrix(y_test, preds_svc)\n",
        "print(cf_matrix)\n",
        "from sklearn.metrics import accuracy_score\n",
        "accuracy_score(y_test, preds_svc)"
      ],
      "execution_count": 23,
      "outputs": [
        {
          "output_type": "stream",
          "name": "stdout",
          "text": [
            "[[304  12]\n",
            " [ 10 844]]\n"
          ]
        },
        {
          "output_type": "execute_result",
          "data": {
            "text/plain": [
              "0.9811965811965812"
            ]
          },
          "metadata": {},
          "execution_count": 23
        }
      ]
    },
    {
      "cell_type": "code",
      "metadata": {
        "id": "25ORflOtfRqn"
      },
      "source": [
        "from sklearn.ensemble import RandomForestClassifier\n",
        "random_forest=RandomForestClassifier(random_state=0)\n",
        "model_RF=random_forest.fit(features_flattened, train_set.classes)\n"
      ],
      "execution_count": 24,
      "outputs": []
    },
    {
      "cell_type": "code",
      "metadata": {
        "id": "xW9X-9_4f33N"
      },
      "source": [
        "preds_RF=model_RF.predict(features_extracted_test_flattened)"
      ],
      "execution_count": 25,
      "outputs": []
    },
    {
      "cell_type": "code",
      "metadata": {
        "colab": {
          "base_uri": "https://localhost:8080/"
        },
        "id": "LeELzv-dfxdH",
        "outputId": "176b3ad7-91a2-4cfd-b027-932aa23c92d4"
      },
      "source": [
        "from sklearn.metrics import confusion_matrix\n",
        "from sklearn.metrics import classification_report\n",
        "y_test=test_set.classes\n",
        "cf_matrix=confusion_matrix(y_test, preds_RF)\n",
        "print(cf_matrix)\n",
        "from sklearn.metrics import accuracy_score\n",
        "accuracy_score(y_test, preds_RF)"
      ],
      "execution_count": 26,
      "outputs": [
        {
          "output_type": "stream",
          "name": "stdout",
          "text": [
            "[[297  19]\n",
            " [  8 846]]\n"
          ]
        },
        {
          "output_type": "execute_result",
          "data": {
            "text/plain": [
              "0.9769230769230769"
            ]
          },
          "metadata": {},
          "execution_count": 26
        }
      ]
    },
    {
      "cell_type": "code",
      "metadata": {
        "id": "m-juP1jVfxfP"
      },
      "source": [
        "from sklearn.linear_model import LogisticRegression\n",
        "logit=LogisticRegression(random_state=0, max_iter=6000)\n",
        "model_logit=logit.fit(features_flattened, train_set.classes)\n"
      ],
      "execution_count": 27,
      "outputs": []
    },
    {
      "cell_type": "code",
      "metadata": {
        "id": "8C6R33iLfxhp"
      },
      "source": [
        "preds_logit=model_logit.predict(features_extracted_test_flattened)"
      ],
      "execution_count": 28,
      "outputs": []
    },
    {
      "cell_type": "code",
      "metadata": {
        "colab": {
          "base_uri": "https://localhost:8080/"
        },
        "id": "Ysn5485Afxj0",
        "outputId": "009114fc-1bec-4014-da8d-a9a0f7065632"
      },
      "source": [
        "from sklearn.metrics import confusion_matrix\n",
        "from sklearn.metrics import classification_report\n",
        "y_test=test_set.classes\n",
        "cf_matrix=confusion_matrix(y_test, preds_logit)\n",
        "print(cf_matrix)\n",
        "from sklearn.metrics import accuracy_score\n",
        "accuracy_score(y_test, preds_logit)"
      ],
      "execution_count": 29,
      "outputs": [
        {
          "output_type": "stream",
          "name": "stdout",
          "text": [
            "[[303  13]\n",
            " [ 10 844]]\n"
          ]
        },
        {
          "output_type": "execute_result",
          "data": {
            "text/plain": [
              "0.9803418803418803"
            ]
          },
          "metadata": {},
          "execution_count": 29
        }
      ]
    },
    {
      "cell_type": "code",
      "metadata": {
        "id": "_RtM4IyYokjm"
      },
      "source": [
        "from sklearn.neighbors import KNeighborsClassifier\n",
        "knn_optimized=KNeighborsClassifier(n_neighbors=13).fit(features_flattened, train_set.classes)"
      ],
      "execution_count": 30,
      "outputs": []
    },
    {
      "cell_type": "code",
      "metadata": {
        "id": "j_AT6Bzloklw"
      },
      "source": [
        "preds_knn=knn_optimized.predict(features_extracted_test_flattened)"
      ],
      "execution_count": 31,
      "outputs": []
    },
    {
      "cell_type": "code",
      "metadata": {
        "colab": {
          "base_uri": "https://localhost:8080/"
        },
        "id": "hSPXjUEZokwr",
        "outputId": "adcb882e-8042-4bd4-9baa-857a32087738"
      },
      "source": [
        "from sklearn.metrics import confusion_matrix\n",
        "from sklearn.metrics import classification_report\n",
        "y_test=test_set.classes\n",
        "cf_matrix=confusion_matrix(y_test, preds_knn)\n",
        "print(cf_matrix)\n",
        "from sklearn.metrics import accuracy_score\n",
        "accuracy_score(y_test, preds_knn)"
      ],
      "execution_count": 32,
      "outputs": [
        {
          "output_type": "stream",
          "name": "stdout",
          "text": [
            "[[306  10]\n",
            " [  7 847]]\n"
          ]
        },
        {
          "output_type": "execute_result",
          "data": {
            "text/plain": [
              "0.9854700854700855"
            ]
          },
          "metadata": {},
          "execution_count": 32
        }
      ]
    },
    {
      "cell_type": "code",
      "metadata": {
        "id": "8HsE7XPLgAwf"
      },
      "source": [
        "from sklearn.naive_bayes import GaussianNB\n",
        "classifier_NB=GaussianNB()\n",
        "model_NB=classifier_NB.fit(features_flattened, train_set.classes)"
      ],
      "execution_count": 33,
      "outputs": []
    },
    {
      "cell_type": "code",
      "metadata": {
        "id": "iEcn2mcZgJJP"
      },
      "source": [
        "preds_NB=model_NB.predict(features_extracted_test_flattened)"
      ],
      "execution_count": 34,
      "outputs": []
    },
    {
      "cell_type": "code",
      "metadata": {
        "colab": {
          "base_uri": "https://localhost:8080/"
        },
        "id": "GtKwD6USgJLb",
        "outputId": "e81ef144-50b1-46ec-e285-69953c685e21"
      },
      "source": [
        "from sklearn.metrics import confusion_matrix\n",
        "from sklearn.metrics import classification_report\n",
        "y_test=test_set.classes\n",
        "cf_matrix=confusion_matrix(y_test, preds_NB)\n",
        "print(cf_matrix)\n",
        "from sklearn.metrics import accuracy_score\n",
        "accuracy_score(y_test, preds_NB)"
      ],
      "execution_count": 35,
      "outputs": [
        {
          "output_type": "stream",
          "name": "stdout",
          "text": [
            "[[246  70]\n",
            " [ 18 836]]\n"
          ]
        },
        {
          "output_type": "execute_result",
          "data": {
            "text/plain": [
              "0.9247863247863248"
            ]
          },
          "metadata": {},
          "execution_count": 35
        }
      ]
    },
    {
      "cell_type": "code",
      "metadata": {
        "colab": {
          "base_uri": "https://localhost:8080/",
          "height": 312
        },
        "id": "h2jsaVzBqZs6",
        "outputId": "46afc880-26db-46e0-9eed-88225d9839b4"
      },
      "source": [
        "matrix_knn=[[306,10],\n",
        "        [7, 847]]\n",
        "\n",
        "import seaborn as sns\n",
        "import matplotlib.pyplot as plt\n",
        "ax=plt.subplot()\n",
        "sns.heatmap(matrix_knn, cmap='Blues', annot=True, linewidths=1, fmt = 'd', ax=ax)\n",
        "ax.set_xlabel('Predicted Label');ax.set_ylabel('Ground Truth Label')\n",
        "ax.set_title('Confusion Matrix')\n",
        "ax.xaxis.set_ticklabels(['Normal', 'Pneumonia']); ax.yaxis.set_ticklabels(['Normal', 'Pneumonia'])"
      ],
      "execution_count": 56,
      "outputs": [
        {
          "output_type": "execute_result",
          "data": {
            "text/plain": [
              "[Text(0, 0.5, 'Normal'), Text(0, 1.5, 'Pneumonia')]"
            ]
          },
          "metadata": {},
          "execution_count": 56
        },
        {
          "output_type": "display_data",
          "data": {
            "image/png": "[encoded data removed]",
            "text/plain": [
              "<Figure size 432x288 with 2 Axes>"
            ]
          },
          "metadata": {
            "needs_background": "light"
          }
        }
      ]
    }
  ]
}