{
  "nbformat": 4,
  "nbformat_minor": 0,
  "metadata": {
    "colab": {
      "name": "Chest VGG_SGD_MachineLearningClassifiersWithUpdatedWeights.ipynb",
      "provenance": [],
      "collapsed_sections": []
    },
    "kernelspec": {
      "display_name": "Python 3",
      "language": "python",
      "name": "python3"
    },
    "language_info": {
      "codemirror_mode": {
        "name": "ipython",
        "version": 3
      },
      "file_extension": ".py",
      "mimetype": "text/x-python",
      "name": "python",
      "nbconvert_exporter": "python",
      "pygments_lexer": "ipython3",
      "version": "3.8.5"
    },
    "accelerator": "GPU"
  },
  "cells": [
    {
      "cell_type": "code",
      "metadata": {
        "id": "pOcABxXpdMfz"
      },
      "source": [
        "from tensorflow.keras.models import Model\n",
        "from tensorflow.keras.preprocessing import image\n",
        "from tensorflow.keras.preprocessing.image import ImageDataGenerator\n",
        "from tensorflow.keras.models import Sequential\n",
        "from tensorflow.keras.layers import Input\n",
        "from glob import glob"
      ],
      "execution_count": 48,
      "outputs": []
    },
    {
      "cell_type": "code",
      "metadata": {
        "colab": {
          "base_uri": "https://localhost:8080/"
        },
        "id": "ubRFgu-QexhK",
        "outputId": "08531222-e74d-44c6-ef21-f4bac164d57f"
      },
      "source": [
        "from google.colab import drive\n",
        "drive.mount('/content/drive')"
      ],
      "execution_count": 46,
      "outputs": [
        {
          "output_type": "stream",
          "name": "stdout",
          "text": [
            "Drive already mounted at /content/drive; to attempt to forcibly remount, call drive.mount(\"/content/drive\", force_remount=True).\n"
          ]
        }
      ]
    },
    {
      "cell_type": "code",
      "metadata": {
        "id": "pBvGWp8KgEUH"
      },
      "source": [
        "from keras.models import load_model\n",
        "network = load_model('/content/drive/MyDrive/ChestVGG_SGD.h5')"
      ],
      "execution_count": 73,
      "outputs": []
    },
    {
      "cell_type": "code",
      "metadata": {
        "colab": {
          "base_uri": "https://localhost:8080/"
        },
        "id": "9sxn4ZJGibzX",
        "outputId": "ada6b098-0617-45c7-cc9b-964c8924d8b5"
      },
      "source": [
        "network.layers[40].output"
      ],
      "execution_count": 74,
      "outputs": [
        {
          "output_type": "execute_result",
          "data": {
            "text/plain": [
              "<KerasTensor: shape=(None, 7, 7, 1024) dtype=float32 (created by layer 'concatenate_11')>"
            ]
          },
          "metadata": {},
          "execution_count": 74
        }
      ]
    },
    {
      "cell_type": "code",
      "metadata": {
        "id": "cBGlMfOidMiD"
      },
      "source": [
        "from tensorflow.keras.layers import Input\n",
        "model = Model(inputs=network.input, outputs=network.layers[40].output)"
      ],
      "execution_count": 75,
      "outputs": []
    },
    {
      "cell_type": "code",
      "metadata": {
        "id": "QKTMN6puDIix"
      },
      "source": [
        "train_path = '/content/drive/MyDrive/Dataset/train'\n",
        "test_path = '/content/drive/MyDrive/Dataset/test'"
      ],
      "execution_count": 76,
      "outputs": []
    },
    {
      "cell_type": "code",
      "metadata": {
        "colab": {
          "base_uri": "https://localhost:8080/"
        },
        "id": "KF7-ZO5yfAYl",
        "outputId": "c48fca72-b362-4e14-a5ac-301a4d74c81e"
      },
      "source": [
        "folders = glob('/content/drive/MyDrive/Dataset/train/*')\n",
        "print(len(folders))"
      ],
      "execution_count": 77,
      "outputs": [
        {
          "output_type": "stream",
          "name": "stdout",
          "text": [
            "2\n"
          ]
        }
      ]
    },
    {
      "cell_type": "code",
      "metadata": {
        "id": "015znwZ7KGBc"
      },
      "source": [
        "train_datagen = ImageDataGenerator(\n",
        "    rescale=1./255,\n",
        "    shear_range=0.2,\n",
        "    zoom_range=0.2,\n",
        "    horizontal_flip=True)"
      ],
      "execution_count": 78,
      "outputs": []
    },
    {
      "cell_type": "code",
      "metadata": {
        "id": "0we3EB_HKGGD"
      },
      "source": [
        "test_datagen = ImageDataGenerator(\n",
        "    rescale=1./255)"
      ],
      "execution_count": 79,
      "outputs": []
    },
    {
      "cell_type": "code",
      "metadata": {
        "colab": {
          "base_uri": "https://localhost:8080/"
        },
        "id": "XGPlrCmmKGIb",
        "outputId": "083a0dfd-ad7d-4918-f635-7a1c03d6cd7a"
      },
      "source": [
        "train_set = train_datagen.flow_from_directory(train_path,\n",
        "                                                target_size = (224, 224),\n",
        "                                                batch_size=1,\n",
        "                                                shuffle=False,\n",
        "                                                 class_mode = 'categorical')"
      ],
      "execution_count": 80,
      "outputs": [
        {
          "output_type": "stream",
          "name": "stdout",
          "text": [
            "Found 4686 images belonging to 2 classes.\n"
          ]
        }
      ]
    },
    {
      "cell_type": "code",
      "metadata": {
        "colab": {
          "base_uri": "https://localhost:8080/"
        },
        "id": "pbKCyIJIKQm0",
        "outputId": "e404006b-f8f0-47c9-a0a6-dc823ffdbc62"
      },
      "source": [
        "test_set = test_datagen.flow_from_directory(test_path,\n",
        "                                            target_size = (224, 224),\n",
        "                                            shuffle=False,\n",
        "                                            batch_size=1,\n",
        "                                            class_mode = 'categorical')"
      ],
      "execution_count": 81,
      "outputs": [
        {
          "output_type": "stream",
          "name": "stdout",
          "text": [
            "Found 1170 images belonging to 2 classes.\n"
          ]
        }
      ]
    },
    {
      "cell_type": "code",
      "metadata": {
        "colab": {
          "base_uri": "https://localhost:8080/"
        },
        "id": "fOTOlxZdfBrw",
        "outputId": "a0248251-a64b-44fa-b00e-9aa8471d705f"
      },
      "source": [
        "features=model.predict(train_set, steps=4686, verbose=1)"
      ],
      "execution_count": 82,
      "outputs": [
        {
          "output_type": "stream",
          "name": "stdout",
          "text": [
            "4686/4686 [==============================] - 415s 89ms/step\n"
          ]
        }
      ]
    },
    {
      "cell_type": "code",
      "metadata": {
        "id": "P1Xo5HshfGe-"
      },
      "source": [
        "features_flattened=[]\n",
        "for i in features:\n",
        "  a=i.ravel()\n",
        "  features_flattened.append(a)"
      ],
      "execution_count": 83,
      "outputs": []
    },
    {
      "cell_type": "code",
      "metadata": {
        "id": "HFSTVy4wfGhX"
      },
      "source": [
        "from sklearn.svm import LinearSVC\n",
        "svc=LinearSVC(C=1, dual=False, max_iter=6000)\n",
        "model_svc=svc.fit(features_flattened, train_set.classes)"
      ],
      "execution_count": 84,
      "outputs": []
    },
    {
      "cell_type": "code",
      "metadata": {
        "colab": {
          "base_uri": "https://localhost:8080/"
        },
        "id": "DGa7KJSxfGjv",
        "outputId": "44abea07-7c0f-4635-e18f-0a9f2da0b2c5"
      },
      "source": [
        "features_extracted_test=model.predict(test_set, steps=1170, verbose=1)"
      ],
      "execution_count": 85,
      "outputs": [
        {
          "output_type": "stream",
          "name": "stdout",
          "text": [
            "1170/1170 [==============================] - 104s 89ms/step\n"
          ]
        }
      ]
    },
    {
      "cell_type": "code",
      "metadata": {
        "id": "-IO_JMUZfGmd"
      },
      "source": [
        "features_extracted_test_flattened=[]\n",
        "for i in features_extracted_test:\n",
        "  a=i.ravel()\n",
        "  features_extracted_test_flattened.append(a)"
      ],
      "execution_count": 86,
      "outputs": []
    },
    {
      "cell_type": "code",
      "metadata": {
        "id": "ojopZtIVfGow"
      },
      "source": [
        "preds=model_svc.predict(features_extracted_test_flattened)"
      ],
      "execution_count": 87,
      "outputs": []
    },
    {
      "cell_type": "code",
      "metadata": {
        "colab": {
          "base_uri": "https://localhost:8080/"
        },
        "id": "Wh_MQsxpfRjK",
        "outputId": "11f525d7-d2e7-435d-ce88-0eaa6f40d43f"
      },
      "source": [
        "from sklearn.metrics import confusion_matrix\n",
        "from sklearn.metrics import classification_report\n",
        "y_test=test_set.classes\n",
        "cf_matrix=confusion_matrix(y_test, preds)\n",
        "print(cf_matrix)\n",
        "from sklearn.metrics import accuracy_score\n",
        "accuracy_score(y_test, preds)"
      ],
      "execution_count": 88,
      "outputs": [
        {
          "output_type": "stream",
          "name": "stdout",
          "text": [
            "[[308   8]\n",
            " [ 31 823]]\n"
          ]
        },
        {
          "output_type": "execute_result",
          "data": {
            "text/plain": [
              "0.9666666666666667"
            ]
          },
          "metadata": {},
          "execution_count": 88
        }
      ]
    },
    {
      "cell_type": "code",
      "metadata": {
        "id": "25ORflOtfRqn"
      },
      "source": [
        "from sklearn.ensemble import RandomForestClassifier\n",
        "random_forest=RandomForestClassifier(random_state=0)\n",
        "model_RF=random_forest.fit(features_flattened, train_set.classes)\n"
      ],
      "execution_count": 89,
      "outputs": []
    },
    {
      "cell_type": "code",
      "metadata": {
        "id": "xW9X-9_4f33N"
      },
      "source": [
        "preds_RF=model_RF.predict(features_extracted_test_flattened)"
      ],
      "execution_count": 90,
      "outputs": []
    },
    {
      "cell_type": "code",
      "metadata": {
        "colab": {
          "base_uri": "https://localhost:8080/"
        },
        "id": "LeELzv-dfxdH",
        "outputId": "6ba0ad26-aadb-4d0f-f852-ae22a75093aa"
      },
      "source": [
        "from sklearn.metrics import confusion_matrix\n",
        "from sklearn.metrics import classification_report\n",
        "y_test=test_set.classes\n",
        "cf_matrix=confusion_matrix(y_test, preds_RF)\n",
        "print(cf_matrix)\n",
        "from sklearn.metrics import accuracy_score\n",
        "accuracy_score(y_test, preds_RF)"
      ],
      "execution_count": 91,
      "outputs": [
        {
          "output_type": "stream",
          "name": "stdout",
          "text": [
            "[[304  12]\n",
            " [ 22 832]]\n"
          ]
        },
        {
          "output_type": "execute_result",
          "data": {
            "text/plain": [
              "0.9709401709401709"
            ]
          },
          "metadata": {},
          "execution_count": 91
        }
      ]
    },
    {
      "cell_type": "code",
      "metadata": {
        "id": "m-juP1jVfxfP"
      },
      "source": [
        "from sklearn.linear_model import LogisticRegression\n",
        "logit=LogisticRegression(random_state=0, max_iter=6000)\n",
        "model_logit=logit.fit(features_flattened, train_set.classes)\n"
      ],
      "execution_count": 92,
      "outputs": []
    },
    {
      "cell_type": "code",
      "metadata": {
        "id": "8C6R33iLfxhp"
      },
      "source": [
        "preds_logit=model_logit.predict(features_extracted_test_flattened)"
      ],
      "execution_count": 93,
      "outputs": []
    },
    {
      "cell_type": "code",
      "metadata": {
        "colab": {
          "base_uri": "https://localhost:8080/"
        },
        "id": "Ysn5485Afxj0",
        "outputId": "35ebded5-d17f-4156-bb39-62f9851f8a75"
      },
      "source": [
        "from sklearn.metrics import confusion_matrix\n",
        "from sklearn.metrics import classification_report\n",
        "y_test=test_set.classes\n",
        "cf_matrix=confusion_matrix(y_test, preds_logit)\n",
        "print(cf_matrix)\n",
        "from sklearn.metrics import accuracy_score\n",
        "accuracy_score(y_test, preds_logit)"
      ],
      "execution_count": 94,
      "outputs": [
        {
          "output_type": "stream",
          "name": "stdout",
          "text": [
            "[[310   6]\n",
            " [ 31 823]]\n"
          ]
        },
        {
          "output_type": "execute_result",
          "data": {
            "text/plain": [
              "0.9683760683760684"
            ]
          },
          "metadata": {},
          "execution_count": 94
        }
      ]
    },
    {
      "cell_type": "code",
      "metadata": {
        "id": "QB-cTIVtfRtA"
      },
      "source": [
        "from sklearn.neighbors import KNeighborsClassifier\n",
        "knn_optimized=KNeighborsClassifier(n_neighbors=19).fit(features_flattened, train_set.classes)"
      ],
      "execution_count": 122,
      "outputs": []
    },
    {
      "cell_type": "code",
      "metadata": {
        "id": "gFFKHQ_mgAri"
      },
      "source": [
        "preds_knn=knn_optimized.predict(features_extracted_test_flattened)"
      ],
      "execution_count": 123,
      "outputs": []
    },
    {
      "cell_type": "code",
      "metadata": {
        "colab": {
          "base_uri": "https://localhost:8080/"
        },
        "id": "Vx2lgR-0gAuZ",
        "outputId": "5c81021d-d481-4860-e78c-605de9e8aa45"
      },
      "source": [
        "from sklearn.metrics import confusion_matrix\n",
        "from sklearn.metrics import classification_report\n",
        "y_test=test_set.classes\n",
        "cf_matrix=confusion_matrix(y_test, preds_knn)\n",
        "print(cf_matrix)\n",
        "from sklearn.metrics import accuracy_score\n",
        "accuracy_score(y_test, preds_knn)"
      ],
      "execution_count": 124,
      "outputs": [
        {
          "output_type": "stream",
          "name": "stdout",
          "text": [
            "[[311   5]\n",
            " [ 29 825]]\n"
          ]
        },
        {
          "output_type": "execute_result",
          "data": {
            "text/plain": [
              "0.9709401709401709"
            ]
          },
          "metadata": {},
          "execution_count": 124
        }
      ]
    },
    {
      "cell_type": "code",
      "metadata": {
        "id": "_RtM4IyYokjm"
      },
      "source": [
        "from sklearn.neighbors import KNeighborsClassifier\n",
        "knn_optimized=KNeighborsClassifier(n_neighbors=5).fit(features_flattened, train_set.classes)"
      ],
      "execution_count": 101,
      "outputs": []
    },
    {
      "cell_type": "code",
      "metadata": {
        "id": "j_AT6Bzloklw"
      },
      "source": [
        "preds_knn=knn_optimized.predict(features_extracted_test_flattened)"
      ],
      "execution_count": 102,
      "outputs": []
    },
    {
      "cell_type": "code",
      "metadata": {
        "colab": {
          "base_uri": "https://localhost:8080/"
        },
        "id": "hSPXjUEZokwr",
        "outputId": "326e1356-4fec-4853-c2a1-3325d7c4bd31"
      },
      "source": [
        "from sklearn.metrics import confusion_matrix\n",
        "from sklearn.metrics import classification_report\n",
        "y_test=test_set.classes\n",
        "cf_matrix=confusion_matrix(y_test, preds_knn)\n",
        "print(cf_matrix)\n",
        "from sklearn.metrics import accuracy_score\n",
        "accuracy_score(y_test, preds_knn)"
      ],
      "execution_count": 103,
      "outputs": [
        {
          "output_type": "stream",
          "name": "stdout",
          "text": [
            "[[311   5]\n",
            " [ 26 828]]\n"
          ]
        },
        {
          "output_type": "execute_result",
          "data": {
            "text/plain": [
              "0.9735042735042735"
            ]
          },
          "metadata": {},
          "execution_count": 103
        }
      ]
    },
    {
      "cell_type": "code",
      "metadata": {
        "id": "8HsE7XPLgAwf"
      },
      "source": [
        "from sklearn.naive_bayes import GaussianNB\n",
        "classifier_NB=GaussianNB()\n",
        "model_NB=classifier_NB.fit(features_flattened, train_set.classes)"
      ],
      "execution_count": 98,
      "outputs": []
    },
    {
      "cell_type": "code",
      "metadata": {
        "id": "iEcn2mcZgJJP"
      },
      "source": [
        "preds_NB=model_NB.predict(features_extracted_test_flattened)"
      ],
      "execution_count": 99,
      "outputs": []
    },
    {
      "cell_type": "code",
      "metadata": {
        "colab": {
          "base_uri": "https://localhost:8080/"
        },
        "id": "GtKwD6USgJLb",
        "outputId": "9fdab488-1410-4746-aa36-601eba6252ea"
      },
      "source": [
        "from sklearn.metrics import confusion_matrix\n",
        "from sklearn.metrics import classification_report\n",
        "y_test=test_set.classes\n",
        "cf_matrix=confusion_matrix(y_test, preds_NB)\n",
        "print(cf_matrix)\n",
        "from sklearn.metrics import accuracy_score\n",
        "accuracy_score(y_test, preds_NB)"
      ],
      "execution_count": 100,
      "outputs": [
        {
          "output_type": "stream",
          "name": "stdout",
          "text": [
            "[[234  82]\n",
            " [ 30 824]]\n"
          ]
        },
        {
          "output_type": "execute_result",
          "data": {
            "text/plain": [
              "0.9042735042735043"
            ]
          },
          "metadata": {},
          "execution_count": 100
        }
      ]
    }
  ]
}