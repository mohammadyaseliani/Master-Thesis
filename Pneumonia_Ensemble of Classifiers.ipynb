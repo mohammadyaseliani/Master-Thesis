{
  "nbformat": 4,
  "nbformat_minor": 0,
  "metadata": {
    "colab": {
      "name": "Ensemble.ipynb",
      "provenance": [],
      "collapsed_sections": []
    },
    "kernelspec": {
      "display_name": "Python 3",
      "language": "python",
      "name": "python3"
    },
    "language_info": {
      "codemirror_mode": {
        "name": "ipython",
        "version": 3
      },
      "file_extension": ".py",
      "mimetype": "text/x-python",
      "name": "python",
      "nbconvert_exporter": "python",
      "pygments_lexer": "ipython3",
      "version": "3.8.5"
    },
    "accelerator": "GPU"
  },
  "cells": [
    {
      "cell_type": "code",
      "metadata": {
        "id": "pOcABxXpdMfz"
      },
      "source": [
        "# Importing the Necessary Libraries \n",
        "from tensorflow.keras.models import Model\n",
        "from tensorflow.keras.preprocessing.image import ImageDataGenerator\n",
        "from tensorflow.keras.layers import Input\n",
        "from tensorflow.keras.models import load_model\n",
        "from google.colab import drive\n",
        "import numpy as np\n",
        "from sklearn.metrics import confusion_matrix\n",
        "from sklearn.metrics import classification_report\n",
        "from sklearn.metrics import accuracy_score\n",
        "import seaborn as sns\n",
        "import matplotlib.pyplot as plt\n",
        "import pickle"
      ],
      "execution_count": null,
      "outputs": []
    },
    {
      "cell_type": "code",
      "metadata": {
        "colab": {
          "base_uri": "https://localhost:8080/"
        },
        "id": "ubRFgu-QexhK",
        "outputId": "8db47e01-93d1-4427-ae35-834b7bb58b1a"
      },
      "source": [
        "# Connecting to Google Drive\n",
        "drive.mount('/content/drive')"
      ],
      "execution_count": null,
      "outputs": [
        {
          "output_type": "stream",
          "name": "stdout",
          "text": [
            "Drive already mounted at /content/drive; to attempt to forcibly remount, call drive.mount(\"/content/drive\", force_remount=True).\n"
          ]
        }
      ]
    },
    {
      "cell_type": "code",
      "metadata": {
        "id": "pBvGWp8KgEUH"
      },
      "source": [
        "# Loading the Weights of the CNN Model with FC Layers \n",
        "network = load_model('/content/drive/MyDrive/ChestVGG_SGD.h5')"
      ],
      "execution_count": null,
      "outputs": []
    },
    {
      "cell_type": "code",
      "metadata": {
        "colab": {
          "base_uri": "https://localhost:8080/"
        },
        "id": "9sxn4ZJGibzX",
        "outputId": "316fab35-6967-4934-dc16-1778f9a6ed5a"
      },
      "source": [
        "# Checking the Layer We Want to Use (Flattening Layer)\n",
        "network.layers[41].output"
      ],
      "execution_count": null,
      "outputs": [
        {
          "output_type": "execute_result",
          "data": {
            "text/plain": [
              "<KerasTensor: shape=(None, 50176) dtype=float32 (created by layer 'flatten')>"
            ]
          },
          "metadata": {},
          "execution_count": 4
        }
      ]
    },
    {
      "cell_type": "code",
      "metadata": {
        "id": "cBGlMfOidMiD"
      },
      "source": [
        "# Loading the CNN Model with Layer 41 (Flattening Layer) \n",
        "model = Model(inputs=network.input, outputs=network.layers[41].output)"
      ],
      "execution_count": null,
      "outputs": []
    },
    {
      "cell_type": "code",
      "metadata": {
        "id": "QKTMN6puDIix"
      },
      "source": [
        "# Defining the Training and Test Path\n",
        "train_path = '/content/drive/MyDrive/Dataset/train'\n",
        "test_path = '/content/drive/MyDrive/Dataset/test'"
      ],
      "execution_count": null,
      "outputs": []
    },
    {
      "cell_type": "code",
      "metadata": {
        "id": "0we3EB_HKGGD"
      },
      "source": [
        "# The Settings for Generating the Test Set  \n",
        "test_datagen = ImageDataGenerator(\n",
        "    rescale=1./255)"
      ],
      "execution_count": null,
      "outputs": []
    },
    {
      "cell_type": "code",
      "metadata": {
        "colab": {
          "base_uri": "https://localhost:8080/"
        },
        "id": "pbKCyIJIKQm0",
        "outputId": "1646a1bb-e9a6-4a38-8199-9de43458c516"
      },
      "source": [
        "# Generating the Test Set \n",
        "test_set = test_datagen.flow_from_directory(test_path,\n",
        "                                            target_size = (224, 224),\n",
        "                                            shuffle=False,\n",
        "                                            batch_size=1,\n",
        "                                            class_mode = 'categorical')"
      ],
      "execution_count": null,
      "outputs": [
        {
          "output_type": "stream",
          "name": "stdout",
          "text": [
            "Found 1170 images belonging to 2 classes.\n"
          ]
        }
      ]
    },
    {
      "cell_type": "code",
      "source": [
        "# Loading the Saved Features Obtained in the Training Process\n",
        "features_train=np.load('/content/drive/MyDrive/Features_Flattened.npy')"
      ],
      "metadata": {
        "id": "TioHcDG6MEca"
      },
      "execution_count": null,
      "outputs": []
    },
    {
      "cell_type": "code",
      "source": [
        "# Getting the Outputs of Layer 41 (Flattening Layer) as the Input of Machine Learning (ML) Classifiers for Test\n",
        "features_test=model.predict(test_set, steps=1170, verbose=1)"
      ],
      "metadata": {
        "id": "7eLkHTIBCKl3"
      },
      "execution_count": null,
      "outputs": []
    },
    {
      "cell_type": "code",
      "source": [
        "# Creating the Hybrid CNN Model with FC Layers\n",
        "model_fc=Model(inputs=network.layers[41].output, outputs=network.output)"
      ],
      "metadata": {
        "id": "xibFKqJhdhHd"
      },
      "execution_count": null,
      "outputs": []
    },
    {
      "cell_type": "code",
      "metadata": {
        "id": "HFSTVy4wfGhX"
      },
      "source": [
        "# Creating Linear Support Vector Machine (SVM) Classifier\n",
        "from sklearn import svm\n",
        "svc_linear = svm.SVC(C=1, kernel='linear', max_iter=6000, probability=True)\n",
        "model_svc_linear=svc_linear.fit(features_train, train_set.classes)"
      ],
      "execution_count": null,
      "outputs": []
    },
    {
      "cell_type": "code",
      "source": [
        "# Creating Radial Basis Function (RBF) SVM Classifier\n",
        "svc_rbf = svm.SVC(C=1, kernel='rbf', max_iter=6000, probability=True)\n",
        "model_svc_rbf=svc_rbf.fit(features_train, train_set.classes)"
      ],
      "metadata": {
        "id": "Mm_VlxSCGAUX"
      },
      "execution_count": null,
      "outputs": []
    },
    {
      "cell_type": "code",
      "source": [
        "# Creating Polynomial SVM Classifier\n",
        "svc_pol = svm.SVC(C=1, kernel='poly', max_iter=6000, probability=True)\n",
        "model_svc_pol=svc_pol.fit(features_train, train_set.classes)"
      ],
      "metadata": {
        "id": "fpx8gNCoHW6i"
      },
      "execution_count": null,
      "outputs": []
    },
    {
      "cell_type": "code",
      "metadata": {
        "id": "m-juP1jVfxfP"
      },
      "source": [
        "# Creating Logistic Regression (LR) Classifier\n",
        "from sklearn.linear_model import LogisticRegression\n",
        "logit=LogisticRegression(max_iter=6000)\n",
        "model_lr=logit.fit(features_train, train_set.classes)"
      ],
      "execution_count": null,
      "outputs": []
    },
    {
      "cell_type": "code",
      "metadata": {
        "id": "8HsE7XPLgAwf"
      },
      "source": [
        "# Creating Gaussian Naive Bayes (NB) Classifier\n",
        "from sklearn.naive_bayes import GaussianNB\n",
        "classifier_nb=GaussianNB(priors=[0.5, 0.5])\n",
        "model_nb=classifier_nb.fit(features_train, train_set.classes)"
      ],
      "execution_count": null,
      "outputs": []
    },
    {
      "cell_type": "code",
      "source": [
        "# Classifying Using All the Classifiers \n",
        "models = [model_svc_linear, model_svc_rbf, model_svc_pol, model_lr, model_nb]\n",
        "preds_1 = [model.predict_proba(features_test) for model in models]\n",
        "preds_fc=model_fc.predict(features_test)\n",
        "preds_1.insert(0, preds_fc)\n",
        "preds_1=np.array(preds_1)"
      ],
      "metadata": {
        "id": "jurXlDbI2MJl"
      },
      "execution_count": null,
      "outputs": []
    },
    {
      "cell_type": "code",
      "source": [
        "# Creating the Ensemble Model and Finding the Optimal Weights\n",
        "import pandas as pd\n",
        "df = pd.DataFrame([])\n",
        "\n",
        "for w1 in range(0, 10):\n",
        "    for w2 in range(0,10):\n",
        "        for w3 in range(0,10):\n",
        "          for w4 in range(0,10):\n",
        "            for w5 in range(0,10):\n",
        "              for w6 in range(0,10):\n",
        "                wts = [w1/10.,w2/10.,w3/10., w4/10.0, w5/10.0, w6/10.0]\n",
        "                wted_preds1 = np.tensordot(preds_1, wts, axes=((0),(0)))\n",
        "                wted_ensemble_pred = np.argmax(wted_preds1, axis=1)\n",
        "                weighted_accuracy = accuracy_score(test_set.classes, wted_ensemble_pred)\n",
        "                df = df.append(pd.DataFrame({'wt1':wts[0],'wt2':wts[1], \n",
        "                                              'wt3':wts[2], 'wt4':wts[3], 'wt5':wts[4], 'wt6':wts[5], 'acc':weighted_accuracy*100}, index=[0]), ignore_index=True)\n",
        "            \n",
        "max_acc_row = df.iloc[df['acc'].idxmax()]\n",
        "print(\"Max accuracy of \", max_acc_row[6], \" obained with w1=\", max_acc_row[0],\n",
        "      \" w2=\", max_acc_row[1], \" w3=\", max_acc_row[2], \" w4=\", max_acc_row[3], \" w5=\", max_acc_row[4], \" and w6=\", max_acc_row[5])    "
      ],
      "metadata": {
        "id": "Dn9bl-XOQZx6",
        "colab": {
          "base_uri": "https://localhost:8080/"
        },
        "outputId": "a75abed0-0f49-497a-91fd-98d55d83b741"
      },
      "execution_count": null,
      "outputs": [
        {
          "output_type": "stream",
          "name": "stdout",
          "text": [
            "Max accuracy of  98.54700854700855  obained with w1= 0.0  w2= 0.0  w3= 0.4  w4= 0.0  w5= 0.1  and w6= 0.0\n"
          ]
        }
      ]
    },
    {
      "cell_type": "code",
      "source": [
        "# Classifying Using the Ensemble Classifier According to the Obtained Weights and \n",
        "models = [model_svc_linear, model_svc_rbf, model_svc_pol, model_lr, model_nb]\n",
        "preds = [model.predict_proba(features_test) for model in models]\n",
        "preds_fc=model_fc.predict(features_test)\n",
        "preds.insert(0, preds_fc)\n",
        "preds=np.array(preds_1)\n",
        "ideal_weights = [max_acc_row[0], max_acc_row[1], max_acc_row[2], max_acc_row[3], max_acc_row[4], max_acc_row[5]] \n",
        "#Use tensordot to sum the products of all elements over specified axes.\n",
        "ideal_weighted_preds = np.tensordot(preds, ideal_weights, axes=((0),(0)))\n",
        "ideal_weighted_ensemble_prediction = np.argmax(ideal_weighted_preds, axis=1)\n",
        "\n",
        "ideal_weighted_accuracy = accuracy_score(test_set.classes, ideal_weighted_ensemble_prediction)"
      ],
      "metadata": {
        "id": "-6NS8XCTOBja"
      },
      "execution_count": null,
      "outputs": []
    },
    {
      "cell_type": "code",
      "source": [
        "# Creating the Confusion Matrix \n",
        "cf_matrix=confusion_matrix(test_set.classes, ideal_weighted_ensemble_prediction)\n",
        "ax=plt.figure(figsize=(6,5))\n",
        "ax=plt.subplot()\n",
        "sns.heatmap(cf_matrix, cmap='Blues', annot=True, linewidths=1, fmt = 'd', ax=ax)\n",
        "ax.set_xlabel('Predicted Class');ax.set_ylabel('True Class')\n",
        "ax.set_title('Confusion Matrix')\n",
        "ax.xaxis.set_ticklabels(['Normal', 'Pneumonia']); ax.yaxis.set_ticklabels(['Normal', 'Pneumonia'])"
      ],
      "metadata": {
        "colab": {
          "base_uri": "https://localhost:8080/",
          "height": 367
        },
        "id": "BE-fs0PeNo9D",
        "outputId": "d865f766-3275-4f98-eb25-7135c4956b57"
      },
      "execution_count": null,
      "outputs": [
        {
          "output_type": "execute_result",
          "data": {
            "text/plain": [
              "[Text(0, 0.5, 'Normal'), Text(0, 1.5, 'Pneumonia')]"
            ]
          },
          "metadata": {},
          "execution_count": 74
        },
        {
          "output_type": "display_data",
          "data": {
            "text/plain": [
              "<Figure size 432x360 with 2 Axes>"
            ],
            "image/png": "[encoded data removed]"
          },
          "metadata": {
            "needs_background": "light"
          }
        }
      ]
    },
    {
      "cell_type": "code",
      "source": [
        "Pkl_svc_linear= \"/content/drive/MyDrive/svc_linear.pkl\"  \n",
        "with open(Pkl_svc_linear, 'wb') as file:  \n",
        "    pickle.dump(model_svc_linear, file)"
      ],
      "metadata": {
        "id": "ZykO-ApzOiqZ"
      },
      "execution_count": null,
      "outputs": []
    },
    {
      "cell_type": "code",
      "source": [
        "Pkl_svc_rbf= \"/content/drive/MyDrive/svc_rbf.pkl\"  \n",
        "with open(Pkl_svc_rbf, 'wb') as file:  \n",
        "    pickle.dump(model_svc_rbf, file)"
      ],
      "metadata": {
        "id": "loB1juooRi-6"
      },
      "execution_count": null,
      "outputs": []
    },
    {
      "cell_type": "code",
      "source": [
        "Pkl_svc_pol= \"/content/drive/MyDrive/svc_pol.pkl\"  \n",
        "with open(Pkl_svc_pol, 'wb') as file:  \n",
        "    pickle.dump(model_svc_pol, file)"
      ],
      "metadata": {
        "id": "E8H1Y8I6R5GT"
      },
      "execution_count": null,
      "outputs": []
    },
    {
      "cell_type": "code",
      "source": [
        "Pkl_lr= \"/content/drive/MyDrive/lr.pkl\"  \n",
        "with open(Pkl_lr, 'wb') as file:  \n",
        "    pickle.dump(model_lr, file)"
      ],
      "metadata": {
        "id": "6cVPl-xXR5Iw"
      },
      "execution_count": null,
      "outputs": []
    },
    {
      "cell_type": "code",
      "source": [
        "Pkl_nb= \"/content/drive/MyDrive/nb.pkl\"  \n",
        "with open(Pkl_nb, 'wb') as file:  \n",
        "    pickle.dump(model_nb, file)"
      ],
      "metadata": {
        "id": "4MexnKYBR5LI"
      },
      "execution_count": null,
      "outputs": []
    },
    {
      "cell_type": "code",
      "source": [
        "# Saving the KNN Classifier (The Model with the Highest Test Accuracy (98.55%))\n",
        "Pkl_knn = \"/content/drive/MyDrive/KNN.pkl\"  \n",
        "with open(Pkl_knn, 'wb') as file:  \n",
        "    pickle.dump(knn_optimized, file)"
      ],
      "metadata": {
        "id": "Y3LdNzpF6tZz"
      },
      "execution_count": null,
      "outputs": []
    }
  ]
}
