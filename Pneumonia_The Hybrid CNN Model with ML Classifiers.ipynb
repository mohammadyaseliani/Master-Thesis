{
  "nbformat": 4,
  "nbformat_minor": 0,
  "metadata": {
    "colab": {
      "name": "Pneumonia_Hybrid CNN Model With ML Classifiers.ipynb",
      "provenance": [],
      "collapsed_sections": []
    },
    "kernelspec": {
      "display_name": "Python 3",
      "language": "python",
      "name": "python3"
    },
    "language_info": {
      "codemirror_mode": {
        "name": "ipython",
        "version": 3
      },
      "file_extension": ".py",
      "mimetype": "text/x-python",
      "name": "python",
      "nbconvert_exporter": "python",
      "pygments_lexer": "ipython3",
      "version": "3.8.5"
    },
    "accelerator": "GPU"
  },
  "cells": [
    {
      "cell_type": "code",
      "metadata": {
        "id": "pOcABxXpdMfz"
      },
      "source": [
        "# Importing the Necessary Libraries \n",
        "from tensorflow.keras.models import Model\n",
        "from tensorflow.keras.preprocessing.image import ImageDataGenerator\n",
        "from tensorflow.keras.layers import Input\n",
        "from tensorflow.keras.models import load_model\n",
        "from google.colab import drive\n",
        "import numpy as np\n",
        "from sklearn.metrics import confusion_matrix\n",
        "from sklearn.metrics import classification_report\n",
        "from sklearn.metrics import accuracy_score\n",
        "import seaborn as sns\n",
        "import matplotlib.pyplot as plt\n",
        "import pickle"
      ],
      "execution_count": 1,
      "outputs": []
    },
    {
      "cell_type": "code",
      "metadata": {
        "colab": {
          "base_uri": "https://localhost:8080/"
        },
        "id": "ubRFgu-QexhK",
        "outputId": "701c5abb-55d8-4208-bb9a-31f04c3ba8d5"
      },
      "source": [
        "# Connecting to Google Drive\n",
        "drive.mount('/content/drive')"
      ],
      "execution_count": 2,
      "outputs": [
        {
          "output_type": "stream",
          "name": "stdout",
          "text": [
            "Drive already mounted at /content/drive; to attempt to forcibly remount, call drive.mount(\"/content/drive\", force_remount=True).\n"
          ]
        }
      ]
    },
    {
      "cell_type": "code",
      "metadata": {
        "id": "pBvGWp8KgEUH"
      },
      "source": [
        "# Loading the Weights of the CNN Model with FC Layers \n",
        "network = load_model('/content/drive/MyDrive/ChestVGG_SGD.h5')"
      ],
      "execution_count": 3,
      "outputs": []
    },
    {
      "cell_type": "code",
      "metadata": {
        "colab": {
          "base_uri": "https://localhost:8080/"
        },
        "id": "9sxn4ZJGibzX",
        "outputId": "30b658aa-efa1-45fc-a62e-b65594d902e4"
      },
      "source": [
        "# Checking the Layer We Want to Use (Flattening Layer)\n",
        "network.layers[41].output"
      ],
      "execution_count": 4,
      "outputs": [
        {
          "output_type": "execute_result",
          "data": {
            "text/plain": [
              "<KerasTensor: shape=(None, 50176) dtype=float32 (created by layer 'flatten')>"
            ]
          },
          "metadata": {},
          "execution_count": 4
        }
      ]
    },
    {
      "cell_type": "code",
      "metadata": {
        "id": "cBGlMfOidMiD"
      },
      "source": [
        "# Loading the CNN Model with Layer 41 (Flattening Layer) \n",
        "model = Model(inputs=network.input, outputs=network.layers[41].output)"
      ],
      "execution_count": 5,
      "outputs": []
    },
    {
      "cell_type": "code",
      "metadata": {
        "id": "QKTMN6puDIix"
      },
      "source": [
        "# Defining the Training and Test Path\n",
        "train_path = '/content/drive/MyDrive/Dataset/train'\n",
        "test_path = '/content/drive/MyDrive/Dataset/test'"
      ],
      "execution_count": 6,
      "outputs": []
    },
    {
      "cell_type": "code",
      "metadata": {
        "id": "015znwZ7KGBc"
      },
      "source": [
        "# The Settings for Generating the Training Set  \n",
        "train_datagen = ImageDataGenerator(\n",
        "    rescale=1./255)"
      ],
      "execution_count": 7,
      "outputs": []
    },
    {
      "cell_type": "code",
      "metadata": {
        "id": "0we3EB_HKGGD"
      },
      "source": [
        "# The Settings for Generating the Test Set  \n",
        "test_datagen = ImageDataGenerator(\n",
        "    rescale=1./255)"
      ],
      "execution_count": 8,
      "outputs": []
    },
    {
      "cell_type": "code",
      "metadata": {
        "colab": {
          "base_uri": "https://localhost:8080/"
        },
        "id": "XGPlrCmmKGIb",
        "outputId": "28990b33-a8fa-4523-9ddf-2b625185bded"
      },
      "source": [
        "# Generating the Training Set \n",
        "train_set = train_datagen.flow_from_directory(train_path,\n",
        "                                                target_size = (224, 224),\n",
        "                                                batch_size=1,\n",
        "                                                shuffle=False,\n",
        "                                                 class_mode = 'categorical')"
      ],
      "execution_count": 9,
      "outputs": [
        {
          "output_type": "stream",
          "name": "stdout",
          "text": [
            "Found 4686 images belonging to 2 classes.\n"
          ]
        }
      ]
    },
    {
      "cell_type": "code",
      "metadata": {
        "colab": {
          "base_uri": "https://localhost:8080/"
        },
        "id": "pbKCyIJIKQm0",
        "outputId": "3aeaec5d-724f-4802-8edf-55340c7159c0"
      },
      "source": [
        "# Generating the Test Set \n",
        "test_set = test_datagen.flow_from_directory(test_path,\n",
        "                                            target_size = (224, 224),\n",
        "                                            shuffle=False,\n",
        "                                            batch_size=1,\n",
        "                                            class_mode = 'categorical')"
      ],
      "execution_count": 10,
      "outputs": [
        {
          "output_type": "stream",
          "name": "stdout",
          "text": [
            "Found 1170 images belonging to 2 classes.\n"
          ]
        }
      ]
    },
    {
      "cell_type": "code",
      "metadata": {
        "colab": {
          "base_uri": "https://localhost:8080/"
        },
        "id": "fOTOlxZdfBrw",
        "outputId": "b090eeb7-b486-4e1a-bfe5-1bfc3078a215"
      },
      "source": [
        "# Getting the Outputs of Layer 41 (Flattening Layer) as the Input of Machine Learning (ML) Classifiers for Training\n",
        "features_train=model.predict(train_set, steps=4686, verbose=1)"
      ],
      "execution_count": 11,
      "outputs": [
        {
          "output_type": "stream",
          "name": "stdout",
          "text": [
            "4686/4686 [==============================] - 339s 71ms/step\n"
          ]
        }
      ]
    },
    {
      "cell_type": "code",
      "source": [
        "# Getting the Outputs of Layer 41 (Flattening Layer) as the Input of Machine Learning (ML) Classifiers for Test\n",
        "features_test=model.predict(test_set, steps=1170, verbose=1)"
      ],
      "metadata": {
        "colab": {
          "base_uri": "https://localhost:8080/"
        },
        "id": "7eLkHTIBCKl3",
        "outputId": "c9ef128c-4895-4e6d-bfc1-499456b4efae"
      },
      "execution_count": 12,
      "outputs": [
        {
          "output_type": "stream",
          "name": "stdout",
          "text": [
            "1170/1170 [==============================] - 82s 70ms/step\n"
          ]
        }
      ]
    },
    {
      "cell_type": "code",
      "metadata": {
        "id": "Yg3TCWeBCLXt"
      },
      "source": [
        "# Saving The Training Features To Google Drive For Further Use \n",
        "np.save(\"/content/drive/MyDrive/Features_Flattened.npy\", features_train)"
      ],
      "execution_count": 13,
      "outputs": []
    },
    {
      "cell_type": "code",
      "metadata": {
        "id": "pJifYErDCOPb"
      },
      "source": [
        "# Saving The Training Classes To Google Drive For Further Use\n",
        "train_classes=train_set.classes\n",
        "np.save(\"/content/drive/MyDrive/Classes.npy\", train_classes)"
      ],
      "execution_count": 14,
      "outputs": []
    },
    {
      "cell_type": "code",
      "metadata": {
        "id": "HFSTVy4wfGhX"
      },
      "source": [
        "# Creating Linear Support Vector Machine (SVM) Classifier\n",
        "from sklearn.svm import LinearSVC\n",
        "svc_linear=LinearSVC(C=1, dual=False, max_iter=6000)\n",
        "model_svc_linear=svc_linear.fit(features_train, train_set.classes)"
      ],
      "execution_count": 15,
      "outputs": []
    },
    {
      "cell_type": "code",
      "metadata": {
        "id": "ojopZtIVfGow"
      },
      "source": [
        "# Making Predictions Using Linear SVM Classifier\n",
        "preds_svc_linear=model_svc_linear.predict(features_test)"
      ],
      "execution_count": 16,
      "outputs": []
    },
    {
      "cell_type": "code",
      "metadata": {
        "colab": {
          "base_uri": "https://localhost:8080/",
          "height": 312
        },
        "id": "Wh_MQsxpfRjK",
        "outputId": "30ec2bb2-fab2-445c-aaaf-3ca62b74648f"
      },
      "source": [
        "# Creating Confusion Matrix For Linear SVM Classifier\n",
        "cf_matrix_svm_linear=confusion_matrix(test_set.classes, preds_svc_linear)\n",
        "ax=plt.subplot()\n",
        "sns.heatmap(cf_matrix_svm_linear, cmap='Blues', annot=True, linewidths=1, fmt = 'd', ax=ax)\n",
        "ax.set_xlabel('Predicted Class');ax.set_ylabel('True Class')\n",
        "ax.set_title('Confusion Matrix')\n",
        "ax.xaxis.set_ticklabels(['Normal', 'Pneumonia']); ax.yaxis.set_ticklabels(['Normal', 'Pneumonia'])\n",
        "accuracy_score(test_set.classes, preds_svc_linear)"
      ],
      "execution_count": 17,
      "outputs": [
        {
          "output_type": "execute_result",
          "data": {
            "text/plain": [
              "0.9811965811965812"
            ]
          },
          "metadata": {},
          "execution_count": 17
        },
        {
          "output_type": "display_data",
          "data": {
            "image/png": "[encoded data removed]",
            "text/plain": [
              "<Figure size 432x288 with 2 Axes>"
            ]
          },
          "metadata": {
            "needs_background": "light"
          }
        }
      ]
    },
    {
      "cell_type": "code",
      "source": [
        "# Creating Radial Basis Function (RBF) SVM Classifier\n",
        "from sklearn import svm\n",
        "svc_rbf = svm.SVC(C=1, kernel='rbf', max_iter=6000)\n",
        "model_svc_rbf=svc_rbf.fit(features_train, train_set.classes)"
      ],
      "metadata": {
        "id": "Mm_VlxSCGAUX"
      },
      "execution_count": 18,
      "outputs": []
    },
    {
      "cell_type": "code",
      "source": [
        "# Making Predictions Using RBF-SVM Classifier\n",
        "preds_svc_rbf=model_svc_rbf.predict(features_test)"
      ],
      "metadata": {
        "id": "OJwSVUZoGAZA"
      },
      "execution_count": 19,
      "outputs": []
    },
    {
      "cell_type": "code",
      "source": [
        "# Creating Confusion Matrix for RBF-SVM Classifier\n",
        "cf_matrix_svm_rbf=confusion_matrix(test_set.classes, preds_svc_rbf)\n",
        "ax=plt.subplot()\n",
        "sns.heatmap(cf_matrix_svm_rbf, cmap='Blues', annot=True, linewidths=1, fmt = 'd', ax=ax)\n",
        "ax.set_xlabel('Predicted Class');ax.set_ylabel('True Class')\n",
        "ax.set_title('Confusion Matrix')\n",
        "ax.xaxis.set_ticklabels(['Normal', 'Pneumonia']); ax.yaxis.set_ticklabels(['Normal', 'Pneumonia'])\n",
        "accuracy_score(test_set.classes, preds_svc_rbf)"
      ],
      "metadata": {
        "id": "0mh-hSiGHIIv",
        "colab": {
          "base_uri": "https://localhost:8080/",
          "height": 312
        },
        "outputId": "e187f5ca-a058-4b33-fce8-1493ce916696"
      },
      "execution_count": 20,
      "outputs": [
        {
          "output_type": "execute_result",
          "data": {
            "text/plain": [
              "0.9829059829059829"
            ]
          },
          "metadata": {},
          "execution_count": 20
        },
        {
          "output_type": "display_data",
          "data": {
            "image/png": "[encoded data removed]",
            "text/plain": [
              "<Figure size 432x288 with 2 Axes>"
            ]
          },
          "metadata": {
            "needs_background": "light"
          }
        }
      ]
    },
    {
      "cell_type": "code",
      "source": [
        "# Creating Polynomial SVM Classifier\n",
        "svc_pol = svm.SVC(C=1, kernel='poly', max_iter=6000)\n",
        "model_svc_pol=svc_pol.fit(features_train, train_set.classes)"
      ],
      "metadata": {
        "id": "fpx8gNCoHW6i"
      },
      "execution_count": 21,
      "outputs": []
    },
    {
      "cell_type": "code",
      "source": [
        "# Making Predictions Using Polynomial SVM Classifier\n",
        "preds_svc_pol=model_svc_pol.predict(features_test)"
      ],
      "metadata": {
        "id": "xx6PoYYUHW9v"
      },
      "execution_count": 22,
      "outputs": []
    },
    {
      "cell_type": "code",
      "source": [
        "# Creating Confusion Matrix for Polynomial SVM Classifier\n",
        "cf_matrix_svc_pol=confusion_matrix(test_set.classes, preds_svc_pol)\n",
        "ax=plt.subplot()\n",
        "sns.heatmap(cf_matrix_svc_pol, cmap='Blues', annot=True, linewidths=1, fmt = 'd', ax=ax)\n",
        "ax.set_xlabel('Predicted Class');ax.set_ylabel('True Class')\n",
        "ax.set_title('Confusion Matrix')\n",
        "ax.xaxis.set_ticklabels(['Normal', 'Pneumonia']); ax.yaxis.set_ticklabels(['Normal', 'Pneumonia'])\n",
        "accuracy_score(test_set.classes, preds_svc_pol)"
      ],
      "metadata": {
        "id": "wPnF-W02HY8U",
        "colab": {
          "base_uri": "https://localhost:8080/",
          "height": 312
        },
        "outputId": "bc7a034f-ba96-4cb1-baf0-881dc9ad92e6"
      },
      "execution_count": 23,
      "outputs": [
        {
          "output_type": "execute_result",
          "data": {
            "text/plain": [
              "0.9829059829059829"
            ]
          },
          "metadata": {},
          "execution_count": 23
        },
        {
          "output_type": "display_data",
          "data": {
            "image/png": "[encoded data removed]",
            "text/plain": [
              "<Figure size 432x288 with 2 Axes>"
            ]
          },
          "metadata": {
            "needs_background": "light"
          }
        }
      ]
    },
    {
      "cell_type": "code",
      "metadata": {
        "id": "25ORflOtfRqn"
      },
      "source": [
        "# Creating Random Forest (RF) Classifier Classifier\n",
        "from sklearn.ensemble import RandomForestClassifier\n",
        "random_forest=RandomForestClassifier(random_state=0)\n",
        "model_rf=random_forest.fit(features_train, train_set.classes)"
      ],
      "execution_count": 24,
      "outputs": []
    },
    {
      "cell_type": "code",
      "metadata": {
        "id": "xW9X-9_4f33N"
      },
      "source": [
        "# Making Predictions Using RF Classifier\n",
        "preds_rf=model_rf.predict(features_test)"
      ],
      "execution_count": 25,
      "outputs": []
    },
    {
      "cell_type": "code",
      "metadata": {
        "id": "LeELzv-dfxdH",
        "colab": {
          "base_uri": "https://localhost:8080/",
          "height": 312
        },
        "outputId": "134a4c47-d7b4-42ac-cf00-82eb23bf93f8"
      },
      "source": [
        "# Creating Confusion Matrix for RF Classifier\n",
        "cf_matrix_rf=confusion_matrix(test_set.classes, preds_rf)\n",
        "ax=plt.subplot()\n",
        "sns.heatmap(cf_matrix_rf, cmap='Blues', annot=True, linewidths=1, fmt = 'd', ax=ax)\n",
        "ax.set_xlabel('Predicted Class');ax.set_ylabel('True Class')\n",
        "ax.set_title('Confusion Matrix')\n",
        "ax.xaxis.set_ticklabels(['Normal', 'Pneumonia']); ax.yaxis.set_ticklabels(['Normal', 'Pneumonia'])\n",
        "accuracy_score(test_set.classes, preds_rf)"
      ],
      "execution_count": 26,
      "outputs": [
        {
          "output_type": "execute_result",
          "data": {
            "text/plain": [
              "0.9769230769230769"
            ]
          },
          "metadata": {},
          "execution_count": 26
        },
        {
          "output_type": "display_data",
          "data": {
            "image/png": "[encoded data removed]",
            "text/plain": [
              "<Figure size 432x288 with 2 Axes>"
            ]
          },
          "metadata": {
            "needs_background": "light"
          }
        }
      ]
    },
    {
      "cell_type": "code",
      "metadata": {
        "id": "m-juP1jVfxfP"
      },
      "source": [
        "# Creating Logistic Regression (LR) Classifier\n",
        "from sklearn.linear_model import LogisticRegression\n",
        "logit=LogisticRegression(max_iter=6000)\n",
        "model_lr=logit.fit(features_train, train_set.classes)"
      ],
      "execution_count": 27,
      "outputs": []
    },
    {
      "cell_type": "code",
      "metadata": {
        "id": "8C6R33iLfxhp"
      },
      "source": [
        "# Making Predictions Using LR Classifier\n",
        "preds_lr=model_lr.predict(features_test)"
      ],
      "execution_count": 28,
      "outputs": []
    },
    {
      "cell_type": "code",
      "metadata": {
        "id": "Ysn5485Afxj0",
        "colab": {
          "base_uri": "https://localhost:8080/",
          "height": 312
        },
        "outputId": "9d51279c-2d66-4541-959a-41969958851e"
      },
      "source": [
        "# Creating Confusion Matrix for LR Classifier\n",
        "cf_matrix_lr=confusion_matrix(test_set.classes, preds_lr)\n",
        "ax=plt.subplot()\n",
        "sns.heatmap(cf_matrix_lr, cmap='Blues', annot=True, linewidths=1, fmt = 'd', ax=ax)\n",
        "ax.set_xlabel('Predicted Class');ax.set_ylabel('True Class')\n",
        "ax.set_title('Confusion Matrix')\n",
        "ax.xaxis.set_ticklabels(['Normal', 'Pneumonia']); ax.yaxis.set_ticklabels(['Normal', 'Pneumonia'])\n",
        "accuracy_score(test_set.classes, preds_lr)"
      ],
      "execution_count": 29,
      "outputs": [
        {
          "output_type": "execute_result",
          "data": {
            "text/plain": [
              "0.9803418803418803"
            ]
          },
          "metadata": {},
          "execution_count": 29
        },
        {
          "output_type": "display_data",
          "data": {
            "image/png": "[encoded data removed]",
            "text/plain": [
              "<Figure size 432x288 with 2 Axes>"
            ]
          },
          "metadata": {
            "needs_background": "light"
          }
        }
      ]
    },
    {
      "cell_type": "code",
      "metadata": {
        "id": "_RtM4IyYokjm"
      },
      "source": [
        "# Creating K-Nearest Neighbors Classifier (The optimal K was calculated using different values in range [3,50])\n",
        "from sklearn.neighbors import KNeighborsClassifier\n",
        "knn_optimized=KNeighborsClassifier(n_neighbors=13).fit(features_train, train_set.classes)"
      ],
      "execution_count": 30,
      "outputs": []
    },
    {
      "cell_type": "code",
      "metadata": {
        "id": "j_AT6Bzloklw"
      },
      "source": [
        "# Making Predictions Using KNN Classifier\n",
        "preds_knn=knn_optimized.predict(features_test)"
      ],
      "execution_count": 31,
      "outputs": []
    },
    {
      "cell_type": "code",
      "metadata": {
        "id": "hSPXjUEZokwr",
        "colab": {
          "base_uri": "https://localhost:8080/",
          "height": 312
        },
        "outputId": "693ed4f9-4948-4dee-9052-abb709926aab"
      },
      "source": [
        "# Creating Confusion Matrix for KNN Classifier\n",
        "cf_matrix_knn=confusion_matrix(test_set.classes, preds_knn)\n",
        "ax=plt.subplot()\n",
        "sns.heatmap(cf_matrix_knn, cmap='Blues', annot=True, linewidths=1, fmt = 'd', ax=ax)\n",
        "ax.set_xlabel('Predicted Class');ax.set_ylabel('True Class')\n",
        "ax.set_title('Confusion Matrix')\n",
        "ax.xaxis.set_ticklabels(['Normal', 'Pneumonia']); ax.yaxis.set_ticklabels(['Normal', 'Pneumonia'])\n",
        "accuracy_score(test_set.classes, preds_knn)"
      ],
      "execution_count": 32,
      "outputs": [
        {
          "output_type": "execute_result",
          "data": {
            "text/plain": [
              "0.9854700854700855"
            ]
          },
          "metadata": {},
          "execution_count": 32
        },
        {
          "output_type": "display_data",
          "data": {
            "image/png": "[encoded data removed]",
            "text/plain": [
              "<Figure size 432x288 with 2 Axes>"
            ]
          },
          "metadata": {
            "needs_background": "light"
          }
        }
      ]
    },
    {
      "cell_type": "code",
      "metadata": {
        "id": "8HsE7XPLgAwf"
      },
      "source": [
        "# Creating Gaussian Naive Bayes (NB) Classifier\n",
        "from sklearn.naive_bayes import GaussianNB\n",
        "classifier_nb=GaussianNB(priors=[0.5, 0.5])\n",
        "model_nb=classifier_nb.fit(features_train, train_set.classes)"
      ],
      "execution_count": 33,
      "outputs": []
    },
    {
      "cell_type": "code",
      "metadata": {
        "id": "iEcn2mcZgJJP"
      },
      "source": [
        "# Making Predictions Using Gaussian NB Classifier\n",
        "preds_nb=model_nb.predict(features_test)"
      ],
      "execution_count": 34,
      "outputs": []
    },
    {
      "cell_type": "code",
      "metadata": {
        "id": "GtKwD6USgJLb",
        "colab": {
          "base_uri": "https://localhost:8080/",
          "height": 312
        },
        "outputId": "dec1f186-1b34-4a34-fe00-067a78930ce3"
      },
      "source": [
        "# Creating Confusion Matrix for Gaussian NB Classifier\n",
        "cf_matrix_nb=confusion_matrix(test_set.classes, preds_nb)\n",
        "ax=plt.subplot()\n",
        "sns.heatmap(cf_matrix_nb, cmap='Blues', annot=True, linewidths=1, fmt = 'd', ax=ax)\n",
        "ax.set_xlabel('Predicted Class');ax.set_ylabel('True Class')\n",
        "ax.set_title('Confusion Matrix')\n",
        "ax.xaxis.set_ticklabels(['Normal', 'Pneumonia']); ax.yaxis.set_ticklabels(['Normal', 'Pneumonia'])\n",
        "accuracy_score(test_set.classes, preds_nb)"
      ],
      "execution_count": 35,
      "outputs": [
        {
          "output_type": "execute_result",
          "data": {
            "text/plain": [
              "0.9247863247863248"
            ]
          },
          "metadata": {},
          "execution_count": 35
        },
        {
          "output_type": "display_data",
          "data": {
            "image/png": "[encoded data removed]",
            "text/plain": [
              "<Figure size 432x288 with 2 Axes>"
            ]
          },
          "metadata": {
            "needs_background": "light"
          }
        }
      ]
    },
    {
      "cell_type": "code",
      "source": [
        "# Saving the KNN Classifier (The Model with the Highest Test Accuracy (98.55%))\n",
        "Pkl_knn = \"/content/drive/MyDrive/KNN.pkl\"  \n",
        "with open(Pkl_knn, 'wb') as file:  \n",
        "    pickle.dump(knn_optimized, file)"
      ],
      "metadata": {
        "id": "Y3LdNzpF6tZz"
      },
      "execution_count": 36,
      "outputs": []
    }
  ]
}
