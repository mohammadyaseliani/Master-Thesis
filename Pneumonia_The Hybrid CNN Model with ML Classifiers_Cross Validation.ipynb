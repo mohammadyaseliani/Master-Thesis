{
  "cells": [
    {
      "cell_type": "code",
      "execution_count": 1,
      "metadata": {
        "id": "pOcABxXpdMfz"
      },
      "outputs": [],
      "source": [
        "# Importing the Necessary Libraries \n",
        "from tensorflow.keras.models import Model\n",
        "from tensorflow.keras.preprocessing.image import ImageDataGenerator\n",
        "from tensorflow.keras.layers import Input\n",
        "from tensorflow.keras.models import load_model\n",
        "from google.colab import drive\n",
        "from sklearn.model_selection import cross_val_score\n",
        "import numpy as np\n",
        "from sklearn.metrics import confusion_matrix\n",
        "from sklearn.metrics import classification_report\n",
        "from sklearn.metrics import accuracy_score\n",
        "import seaborn as sns\n",
        "import matplotlib.pyplot as plt\n",
        "import pickle"
      ]
    },
    {
      "cell_type": "code",
      "execution_count": 2,
      "metadata": {
        "colab": {
          "base_uri": "https://localhost:8080/"
        },
        "id": "ubRFgu-QexhK",
        "outputId": "5a096130-ca8f-404f-d6e9-ffcaa3226122"
      },
      "outputs": [
        {
          "output_type": "stream",
          "name": "stdout",
          "text": [
            "Mounted at /content/drive\n"
          ]
        }
      ],
      "source": [
        "# Connecting to Google Drive\n",
        "drive.mount('/content/drive')"
      ]
    },
    {
      "cell_type": "code",
      "execution_count": 3,
      "metadata": {
        "id": "pBvGWp8KgEUH"
      },
      "outputs": [],
      "source": [
        "# Loading the Weights of the CNN Model with FC Layers \n",
        "network = load_model('/content/drive/MyDrive/Papers/Pneumonia_CAD/Primary Material/Results/Pneumonia_Paper/ChestVGG_SGD.h5')"
      ]
    },
    {
      "cell_type": "code",
      "execution_count": 4,
      "metadata": {
        "colab": {
          "base_uri": "https://localhost:8080/"
        },
        "id": "9sxn4ZJGibzX",
        "outputId": "746b0929-235d-45bc-93ff-1070eae1030b"
      },
      "outputs": [
        {
          "output_type": "execute_result",
          "data": {
            "text/plain": [
              "<KerasTensor: shape=(None, 50176) dtype=float32 (created by layer 'flatten')>"
            ]
          },
          "metadata": {},
          "execution_count": 4
        }
      ],
      "source": [
        "# Checking the Layer We Want to Use (Flattening Layer)\n",
        "network.layers[41].output"
      ]
    },
    {
      "cell_type": "code",
      "execution_count": 5,
      "metadata": {
        "id": "cBGlMfOidMiD"
      },
      "outputs": [],
      "source": [
        "# Loading the CNN Model with Layer 41 (Flattening Layer) \n",
        "model = Model(inputs=network.input, outputs=network.layers[41].output)"
      ]
    },
    {
      "cell_type": "code",
      "execution_count": 6,
      "metadata": {
        "id": "QKTMN6puDIix"
      },
      "outputs": [],
      "source": [
        "# Defining the Test Path\n",
        "test_path = '/content/drive/MyDrive/Papers/Pneumonia_CAD/Primary Material/Dataset/test'"
      ]
    },
    {
      "cell_type": "code",
      "execution_count": 7,
      "metadata": {
        "id": "0we3EB_HKGGD"
      },
      "outputs": [],
      "source": [
        "# The Settings for Generating the Test Set  \n",
        "test_datagen = ImageDataGenerator(\n",
        "    rescale=1./255)"
      ]
    },
    {
      "cell_type": "code",
      "execution_count": 8,
      "metadata": {
        "colab": {
          "base_uri": "https://localhost:8080/"
        },
        "id": "pbKCyIJIKQm0",
        "outputId": "c5d2b4aa-61ea-4ce8-af4f-0a581e7e6ce5"
      },
      "outputs": [
        {
          "output_type": "stream",
          "name": "stdout",
          "text": [
            "Found 1170 images belonging to 2 classes.\n"
          ]
        }
      ],
      "source": [
        "# Generating the Test Set \n",
        "test_set = test_datagen.flow_from_directory(test_path,\n",
        "                                            target_size = (224, 224),\n",
        "                                            shuffle=False,\n",
        "                                            batch_size=1,\n",
        "                                            class_mode = 'categorical')"
      ]
    },
    {
      "cell_type": "code",
      "execution_count": 9,
      "metadata": {
        "colab": {
          "base_uri": "https://localhost:8080/"
        },
        "id": "7eLkHTIBCKl3",
        "outputId": "7b543812-34ec-4fef-e075-f6c62f0b4f08"
      },
      "outputs": [
        {
          "output_type": "stream",
          "name": "stdout",
          "text": [
            "1170/1170 [==============================] - 285s 235ms/step\n"
          ]
        }
      ],
      "source": [
        "# Getting the Outputs of Layer 41 (Flattening Layer) as the Input of Machine Learning (ML) Classifiers for Test\n",
        "features_test=model.predict(test_set, steps=1170, verbose=1)"
      ]
    },
    {
      "cell_type": "code",
      "execution_count": 10,
      "metadata": {
        "id": "Yg3TCWeBCLXt"
      },
      "outputs": [],
      "source": [
        "# Load The Training Features from Google Drive (Saved Before)\n",
        "features_train=np.load(\"/content/drive/MyDrive/Papers/Pneumonia_CAD/Primary Material/Results/Pneumonia_Paper/Features_Flattened.npy\")"
      ]
    },
    {
      "cell_type": "code",
      "execution_count": 11,
      "metadata": {
        "id": "pJifYErDCOPb"
      },
      "outputs": [],
      "source": [
        "# Load The Training Classes from Google Drive (Saved Before)\n",
        "classes_train=np.load(\"/content/drive/MyDrive/Papers/Pneumonia_CAD/Primary Material/Results/Pneumonia_Paper/Classes.npy\")"
      ]
    },
    {
      "cell_type": "code",
      "execution_count": 12,
      "metadata": {
        "id": "TYI3c9-y1Mot"
      },
      "outputs": [],
      "source": [
        "# Concatenating All the Features\n",
        "features_final=np.concatenate((features_train, features_test))"
      ]
    },
    {
      "cell_type": "code",
      "execution_count": 13,
      "metadata": {
        "id": "VGa9Z1dV2BIE"
      },
      "outputs": [],
      "source": [
        "# Concatenating All the Classes\n",
        "classes_final=np.concatenate((classes_train, test_set.classes))"
      ]
    },
    {
      "cell_type": "code",
      "execution_count": 14,
      "metadata": {
        "id": "5UPjpHf6_-wW"
      },
      "outputs": [],
      "source": [
        "# Creating Cross-Validation Sets\n",
        "from sklearn.model_selection import KFold\n",
        "skf = KFold(n_splits=6)"
      ]
    },
    {
      "cell_type": "code",
      "execution_count": null,
      "metadata": {
        "colab": {
          "base_uri": "https://localhost:8080/"
        },
        "id": "HFSTVy4wfGhX",
        "outputId": "c9c55f4c-3865-4928-e0e5-5a3717883220"
      },
      "outputs": [
        {
          "name": "stdout",
          "output_type": "stream",
          "text": [
            "The mean of accuracies for linear SVM classifier is: 0.9808743169398908\n"
          ]
        }
      ],
      "source": [
        "# Creating Linear Support Vector Machine (SVM) Classifier\n",
        "from sklearn.svm import LinearSVC\n",
        "svc_linear=LinearSVC(C=1, dual=False, max_iter=6000)\n",
        "predicted_y = []\n",
        "expected_y = []\n",
        "for train_index, test_index in skf.split(features_final, classes_final):\n",
        "    x_train, x_test = features_final[train_index], features_final[test_index]\n",
        "    y_train, y_test = classes_final[train_index], classes_final[test_index]\n",
        "    model_svc_linear=svc_linear.fit(x_train, y_train)\n",
        "    predicted_y = np.append(predicted_y, model_svc_linear.predict(x_test))\n",
        "    expected_y=np.append(expected_y, y_test)\n",
        "scores = cross_val_score(svc_linear, features_final, classes_final, cv=6)\n",
        "print(\"The mean of accuracies for linear SVM classifier is:\", scores.mean())"
      ]
    },
    {
      "cell_type": "code",
      "execution_count": null,
      "metadata": {
        "colab": {
          "base_uri": "https://localhost:8080/",
          "height": 312
        },
        "id": "Wh_MQsxpfRjK",
        "outputId": "39483231-2734-446a-b33b-91bc7678fdca"
      },
      "outputs": [
        {
          "data": {
            "text/plain": [
              "0.9795081967213115"
            ]
          },
          "execution_count": 16,
          "metadata": {},
          "output_type": "execute_result"
        },
        {
          "data": {
            "image/png": "[encoded data removed]",
            "text/plain": [
              "<Figure size 432x288 with 2 Axes>"
            ]
          },
          "metadata": {},
          "output_type": "display_data"
        }
      ],
      "source": [
        "# Creating Confusion Matrix For Linear SVM Classifier\n",
        "cf_matrix_svm_linear=confusion_matrix(expected_y, predicted_y)\n",
        "ax=plt.subplot()\n",
        "sns.heatmap(cf_matrix_svm_linear, cmap='Blues', annot=True, linewidths=1, fmt = 'd', ax=ax)\n",
        "ax.set_xlabel('Predicted Class');ax.set_ylabel('True Class')\n",
        "ax.set_title('Confusion Matrix')\n",
        "ax.xaxis.set_ticklabels(['Normal', 'Pneumonia']); ax.yaxis.set_ticklabels(['Normal', 'Pneumonia'])\n",
        "accuracy_score(expected_y, predicted_y)"
      ]
    },
    {
      "cell_type": "code",
      "execution_count": null,
      "metadata": {
        "colab": {
          "base_uri": "https://localhost:8080/"
        },
        "id": "Mm_VlxSCGAUX",
        "outputId": "d3654afe-1ece-41eb-e805-bfff369fee51"
      },
      "outputs": [
        {
          "name": "stdout",
          "output_type": "stream",
          "text": [
            "The mean of accuracies for RBF-SVM classifier is: 0.9849726775956285\n"
          ]
        }
      ],
      "source": [
        "# Creating Radial Basis Function (RBF) SVM Classifier\n",
        "from sklearn import svm\n",
        "svc_rbf = svm.SVC(C=1, kernel='rbf', max_iter=6000)\n",
        "predicted_y = []\n",
        "expected_y = []\n",
        "for train_index, test_index in skf.split(features_final, classes_final):\n",
        "    x_train, x_test = features_final[train_index], features_final[test_index]\n",
        "    y_train, y_test = classes_final[train_index], classes_final[test_index]\n",
        "    model_svc_rbf=svc_rbf.fit(x_train, y_train)\n",
        "    predicted_y = np.append(predicted_y, model_svc_rbf.predict(x_test))\n",
        "    expected_y=np.append(expected_y, y_test)\n",
        "scores = cross_val_score(svc_rbf, features_final, classes_final, cv=6)\n",
        "print(\"The mean of accuracies for RBF-SVM classifier is:\", scores.mean())"
      ]
    },
    {
      "cell_type": "code",
      "execution_count": null,
      "metadata": {
        "colab": {
          "base_uri": "https://localhost:8080/",
          "height": 312
        },
        "id": "0mh-hSiGHIIv",
        "outputId": "7f472742-7026-4406-cb00-0503957a28d2"
      },
      "outputs": [
        {
          "data": {
            "text/plain": [
              "0.9820696721311475"
            ]
          },
          "execution_count": 18,
          "metadata": {},
          "output_type": "execute_result"
        },
        {
          "data": {
            "image/png": "[encoded data removed]",
            "text/plain": [
              "<Figure size 432x288 with 2 Axes>"
            ]
          },
          "metadata": {},
          "output_type": "display_data"
        }
      ],
      "source": [
        "# Creating Confusion Matrix for RBF-SVM Classifier\n",
        "cf_matrix_svm_rbf=confusion_matrix(expected_y, predicted_y)\n",
        "ax=plt.subplot()\n",
        "sns.heatmap(cf_matrix_svm_rbf, cmap='Blues', annot=True, linewidths=1, fmt = 'd', ax=ax)\n",
        "ax.set_xlabel('Predicted Class');ax.set_ylabel('True Class')\n",
        "ax.set_title('Confusion Matrix')\n",
        "ax.xaxis.set_ticklabels(['Normal', 'Pneumonia']); ax.yaxis.set_ticklabels(['Normal', 'Pneumonia'])\n",
        "accuracy_score(expected_y, predicted_y)"
      ]
    },
    {
      "cell_type": "code",
      "execution_count": null,
      "metadata": {
        "colab": {
          "base_uri": "https://localhost:8080/"
        },
        "id": "fpx8gNCoHW6i",
        "outputId": "b9727ef0-b047-4f39-f25c-097b0155ea9e"
      },
      "outputs": [
        {
          "name": "stdout",
          "output_type": "stream",
          "text": [
            "The mean of accuracies for polynomial SVM classifier is: 0.983948087431694\n"
          ]
        }
      ],
      "source": [
        "# Creating Polynomial SVM Classifier\n",
        "svc_pol = svm.SVC(C=1, kernel='poly', max_iter=6000)\n",
        "model_svc_pol=svc_pol.fit(x_train, y_train)\n",
        "predicted_y = []\n",
        "expected_y = []\n",
        "for train_index, test_index in skf.split(features_final, classes_final):\n",
        "    x_train, x_test = features_final[train_index], features_final[test_index]\n",
        "    y_train, y_test = classes_final[train_index], classes_final[test_index]\n",
        "    model_svc_pol=svc_rbf.fit(x_train, y_train)\n",
        "    predicted_y = np.append(predicted_y, model_svc_pol.predict(x_test))\n",
        "    expected_y=np.append(expected_y, y_test)\n",
        "scores = cross_val_score(svc_pol, features_final, classes_final, cv=6)\n",
        "print(\"The mean of accuracies for polynomial SVM classifier is:\", scores.mean())"
      ]
    },
    {
      "cell_type": "code",
      "execution_count": null,
      "metadata": {
        "colab": {
          "base_uri": "https://localhost:8080/",
          "height": 312
        },
        "id": "wPnF-W02HY8U",
        "outputId": "648f50e6-46d2-40be-f606-00a396f581f7"
      },
      "outputs": [
        {
          "data": {
            "text/plain": [
              "0.9820696721311475"
            ]
          },
          "execution_count": 20,
          "metadata": {},
          "output_type": "execute_result"
        },
        {
          "data": {
            "image/png": "[encoded data removed]",
            "text/plain": [
              "<Figure size 432x288 with 2 Axes>"
            ]
          },
          "metadata": {},
          "output_type": "display_data"
        }
      ],
      "source": [
        "# Creating Confusion Matrix for Polynomial SVM Classifier\n",
        "cf_matrix_svc_pol=confusion_matrix(expected_y, predicted_y)\n",
        "ax=plt.subplot()\n",
        "sns.heatmap(cf_matrix_svc_pol, cmap='Blues', annot=True, linewidths=1, fmt = 'd', ax=ax)\n",
        "ax.set_xlabel('Predicted Class');ax.set_ylabel('True Class')\n",
        "ax.set_title('Confusion Matrix')\n",
        "ax.xaxis.set_ticklabels(['Normal', 'Pneumonia']); ax.yaxis.set_ticklabels(['Normal', 'Pneumonia'])\n",
        "accuracy_score(expected_y, predicted_y)"
      ]
    },
    {
      "cell_type": "code",
      "execution_count": null,
      "metadata": {
        "colab": {
          "base_uri": "https://localhost:8080/"
        },
        "id": "25ORflOtfRqn",
        "outputId": "e575dadf-0099-4350-a5f3-786f216922bb"
      },
      "outputs": [
        {
          "name": "stdout",
          "output_type": "stream",
          "text": [
            "The mean of accuracies for RF classifier is: 0.9779713114754097\n"
          ]
        }
      ],
      "source": [
        "# Creating Random Forest (RF) Classifier Classifier\n",
        "from sklearn.ensemble import RandomForestClassifier\n",
        "random_forest=RandomForestClassifier(random_state=0)\n",
        "predicted_y = []\n",
        "expected_y = []\n",
        "for train_index, test_index in skf.split(features_final, classes_final):\n",
        "    x_train, x_test = features_final[train_index], features_final[test_index]\n",
        "    y_train, y_test = classes_final[train_index], classes_final[test_index]\n",
        "    model_rf=random_forest.fit(x_train, y_train)\n",
        "    predicted_y = np.append(predicted_y, model_rf.predict(x_test))\n",
        "    expected_y=np.append(expected_y, y_test)\n",
        "scores = cross_val_score(random_forest, features_final, classes_final, cv=6)\n",
        "print(\"The mean of accuracies for RF classifier is:\", scores.mean())"
      ]
    },
    {
      "cell_type": "code",
      "execution_count": null,
      "metadata": {
        "colab": {
          "base_uri": "https://localhost:8080/",
          "height": 312
        },
        "id": "LeELzv-dfxdH",
        "outputId": "aa676e0e-598b-4e9a-feb1-2190c41eac93"
      },
      "outputs": [
        {
          "data": {
            "text/plain": [
              "0.9706284153005464"
            ]
          },
          "execution_count": 22,
          "metadata": {},
          "output_type": "execute_result"
        },
        {
          "data": {
            "image/png": "[encoded data removed]",
            "text/plain": [
              "<Figure size 432x288 with 2 Axes>"
            ]
          },
          "metadata": {},
          "output_type": "display_data"
        }
      ],
      "source": [
        "# Creating Confusion Matrix for RF Classifier\n",
        "cf_matrix_rf=confusion_matrix(expected_y, predicted_y)\n",
        "ax=plt.subplot()\n",
        "sns.heatmap(cf_matrix_rf, cmap='Blues', annot=True, linewidths=1, fmt = 'd', ax=ax)\n",
        "ax.set_xlabel('Predicted Class');ax.set_ylabel('True Class')\n",
        "ax.set_title('Confusion Matrix')\n",
        "ax.xaxis.set_ticklabels(['Normal', 'Pneumonia']); ax.yaxis.set_ticklabels(['Normal', 'Pneumonia'])\n",
        "accuracy_score(expected_y, predicted_y)"
      ]
    },
    {
      "cell_type": "code",
      "execution_count": null,
      "metadata": {
        "colab": {
          "base_uri": "https://localhost:8080/"
        },
        "id": "m-juP1jVfxfP",
        "outputId": "1da25d8f-f825-47ca-d25e-7c1793be9c21"
      },
      "outputs": [
        {
          "name": "stdout",
          "output_type": "stream",
          "text": [
            "The mean of accuracies for LR classifier is: 0.983094262295082\n"
          ]
        }
      ],
      "source": [
        "# Creating Logistic Regression (LR) Classifier\n",
        "from sklearn.linear_model import LogisticRegression\n",
        "logit=LogisticRegression(max_iter=6000)\n",
        "predicted_y = []\n",
        "expected_y = []\n",
        "for train_index, test_index in skf.split(features_final, classes_final):\n",
        "    x_train, x_test = features_final[train_index], features_final[test_index]\n",
        "    y_train, y_test = classes_final[train_index], classes_final[test_index]\n",
        "    model_lr=logit.fit(x_train, y_train)\n",
        "    predicted_y = np.append(predicted_y, model_lr.predict(x_test))\n",
        "    expected_y=np.append(expected_y, y_test)\n",
        "scores = cross_val_score(logit, features_final, classes_final, cv=6)\n",
        "print(\"The mean of accuracies for LR classifier is:\", scores.mean())"
      ]
    },
    {
      "cell_type": "code",
      "execution_count": null,
      "metadata": {
        "colab": {
          "base_uri": "https://localhost:8080/",
          "height": 312
        },
        "id": "Ysn5485Afxj0",
        "outputId": "71c51c3a-e880-4246-c51b-fbffa1f85a37"
      },
      "outputs": [
        {
          "data": {
            "text/plain": [
              "0.9807035519125683"
            ]
          },
          "execution_count": 24,
          "metadata": {},
          "output_type": "execute_result"
        },
        {
          "data": {
            "image/png": "[encoded data removed]",
            "text/plain": [
              "<Figure size 432x288 with 2 Axes>"
            ]
          },
          "metadata": {},
          "output_type": "display_data"
        }
      ],
      "source": [
        "# Creating Confusion Matrix for LR Classifier\n",
        "cf_matrix_lr=confusion_matrix(expected_y, predicted_y)\n",
        "ax=plt.subplot()\n",
        "sns.heatmap(cf_matrix_lr, cmap='Blues', annot=True, linewidths=1, fmt = 'd', ax=ax)\n",
        "ax.set_xlabel('Predicted Class');ax.set_ylabel('True Class')\n",
        "ax.set_title('Confusion Matrix')\n",
        "ax.xaxis.set_ticklabels(['Normal', 'Pneumonia']); ax.yaxis.set_ticklabels(['Normal', 'Pneumonia'])\n",
        "accuracy_score(expected_y, predicted_y)"
      ]
    },
    {
      "cell_type": "code",
      "execution_count": null,
      "metadata": {
        "colab": {
          "base_uri": "https://localhost:8080/"
        },
        "id": "8HsE7XPLgAwf",
        "outputId": "ca19b3e5-33ef-4198-e972-8bd9a27e6c50"
      },
      "outputs": [
        {
          "name": "stdout",
          "output_type": "stream",
          "text": [
            "The mean of accuracies for NB classifier is: 0.9193989071038251\n"
          ]
        }
      ],
      "source": [
        "# Creating Gaussian Naive Bayes (NB) Classifier\n",
        "from sklearn.naive_bayes import GaussianNB\n",
        "classifier_nb=GaussianNB(priors=[0.5, 0.5])\n",
        "predicted_y = []\n",
        "expected_y = []\n",
        "for train_index, test_index in skf.split(features_final, classes_final):\n",
        "    x_train, x_test = features_final[train_index], features_final[test_index]\n",
        "    y_train, y_test = classes_final[train_index], classes_final[test_index]\n",
        "    model_nb=classifier_nb.fit(x_train, y_train)\n",
        "    predicted_y = np.append(predicted_y, model_nb.predict(x_test))\n",
        "    expected_y=np.append(expected_y, y_test)\n",
        "scores = cross_val_score(classifier_nb, features_final, classes_final, cv=6)\n",
        "print(\"The mean of accuracies for NB classifier is:\", scores.mean())"
      ]
    },
    {
      "cell_type": "code",
      "execution_count": null,
      "metadata": {
        "colab": {
          "base_uri": "https://localhost:8080/",
          "height": 312
        },
        "id": "GtKwD6USgJLb",
        "outputId": "b367ead3-a6a3-4008-87b8-0dd6136c6207"
      },
      "outputs": [
        {
          "data": {
            "text/plain": [
              "0.8903688524590164"
            ]
          },
          "execution_count": 26,
          "metadata": {},
          "output_type": "execute_result"
        },
        {
          "data": {
            "image/png": "[encoded data removed]",
            "text/plain": [
              "<Figure size 432x288 with 2 Axes>"
            ]
          },
          "metadata": {},
          "output_type": "display_data"
        }
      ],
      "source": [
        "# Creating Confusion Matrix for Gaussian NB Classifier\n",
        "cf_matrix_nb=confusion_matrix(expected_y, predicted_y)\n",
        "ax=plt.subplot()\n",
        "sns.heatmap(cf_matrix_nb, cmap='Blues', annot=True, linewidths=1, fmt = 'd', ax=ax)\n",
        "ax.set_xlabel('Predicted Class');ax.set_ylabel('True Class')\n",
        "ax.set_title('Confusion Matrix')\n",
        "ax.xaxis.set_ticklabels(['Normal', 'Pneumonia']); ax.yaxis.set_ticklabels(['Normal', 'Pneumonia'])\n",
        "accuracy_score(expected_y, predicted_y)"
      ]
    },
    {
      "cell_type": "code",
      "execution_count": 15,
      "metadata": {
        "id": "xX_Qc8PwdIat",
        "colab": {
          "base_uri": "https://localhost:8080/"
        },
        "outputId": "6e404a41-bcb8-4d64-c564-f2d8059d82a6"
      },
      "outputs": [
        {
          "output_type": "stream",
          "name": "stdout",
          "text": [
            "The mean of accuracies for KNN classifier is: 0.9834357923497268\n"
          ]
        }
      ],
      "source": [
        "# Creating K-Nearest Neighbors Classifier (The optimal K was calculated using different values in range [3,30])\n",
        "from sklearn.neighbors import KNeighborsClassifier\n",
        "knn_optimized=KNeighborsClassifier(n_neighbors=11)\n",
        "predicted_y = []\n",
        "expected_y = []\n",
        "for train_index, test_index in skf.split(features_final, classes_final):\n",
        "    x_train, x_test = features_final[train_index], features_final[test_index]\n",
        "    y_train, y_test = classes_final[train_index], classes_final[test_index]\n",
        "    model_knn=knn_optimized.fit(x_train, y_train)\n",
        "    predicted_y = np.append(predicted_y, model_knn.predict(x_test))\n",
        "    expected_y=np.append(expected_y, y_test)\n",
        "scores = cross_val_score(knn_optimized, features_final, classes_final, cv=6)\n",
        "print(\"The mean of accuracies for KNN classifier is:\", scores.mean())"
      ]
    },
    {
      "cell_type": "code",
      "execution_count": null,
      "metadata": {
        "id": "jT_pUwKkWE_0"
      },
      "outputs": [],
      "source": [
        "scores"
      ]
    },
    {
      "cell_type": "code",
      "execution_count": 16,
      "metadata": {
        "colab": {
          "base_uri": "https://localhost:8080/",
          "height": 312
        },
        "id": "ZAfSEySQdIat",
        "outputId": "47b7fc84-c0c4-4218-db09-fa10edc771ed"
      },
      "outputs": [
        {
          "output_type": "execute_result",
          "data": {
            "text/plain": [
              "0.9788251366120219"
            ]
          },
          "metadata": {},
          "execution_count": 16
        },
        {
          "output_type": "display_data",
          "data": {
            "text/plain": [
              "<Figure size 432x288 with 2 Axes>"
            ],
            "image/png": "[encoded data removed]"
          },
          "metadata": {
            "needs_background": "light"
          }
        }
      ],
      "source": [
        "# Creating Confusion Matrix for KNN Classifier\n",
        "cf_matrix_knn=confusion_matrix(expected_y, predicted_y)\n",
        "ax=plt.subplot()\n",
        "sns.heatmap(cf_matrix_knn, cmap='Blues', annot=True, linewidths=1, fmt = 'd', ax=ax)\n",
        "ax.set_xlabel('Predicted Class');ax.set_ylabel('True Class')\n",
        "ax.set_title('Confusion Matrix')\n",
        "ax.xaxis.set_ticklabels(['Normal', 'Pneumonia']); ax.yaxis.set_ticklabels(['Normal', 'Pneumonia'])\n",
        "accuracy_score(expected_y, predicted_y)"
      ]
    },
    {
      "cell_type": "code",
      "execution_count": null,
      "metadata": {
        "colab": {
          "background_save": true
        },
        "id": "6Lb40eYmdI2n",
        "outputId": "b3d7e629-47ce-4d60-d15f-0da8dbe93afc"
      },
      "outputs": [
        {
          "name": "stdout",
          "output_type": "stream",
          "text": [
            "The mean of accuracies for KNN classifier is: 0.9837773224043715\n"
          ]
        }
      ],
      "source": [
        "# Creating K-Nearest Neighbors Classifier (The optimal K was calculated using different values in range [3,30])\n",
        "from sklearn.neighbors import KNeighborsClassifier\n",
        "knn_optimized=KNeighborsClassifier(n_neighbors=21)\n",
        "predicted_y = []\n",
        "expected_y = []\n",
        "for train_index, test_index in skf.split(features_final, classes_final):\n",
        "    x_train, x_test = features_final[train_index], features_final[test_index]\n",
        "    y_train, y_test = classes_final[train_index], classes_final[test_index]\n",
        "    model_knn=knn_optimized.fit(x_train, y_train)\n",
        "    predicted_y = np.append(predicted_y, model_knn.predict(x_test))\n",
        "    expected_y=np.append(expected_y, y_test)\n",
        "scores = cross_val_score(knn_optimized, features_final, classes_final, cv=6)\n",
        "print(\"The mean of accuracies for KNN classifier is:\", scores.mean())"
      ]
    },
    {
      "cell_type": "code",
      "execution_count": null,
      "metadata": {
        "id": "0bIN-obgWGv0"
      },
      "outputs": [],
      "source": [
        "scores"
      ]
    },
    {
      "cell_type": "code",
      "execution_count": null,
      "metadata": {
        "colab": {
          "base_uri": "https://localhost:8080/",
          "height": 312
        },
        "id": "VdUett41dI2o",
        "outputId": "a4c73618-ea91-4871-ff97-1fd3a06f9c74"
      },
      "outputs": [
        {
          "data": {
            "text/plain": [
              "0.9769467213114754"
            ]
          },
          "execution_count": 36,
          "metadata": {},
          "output_type": "execute_result"
        },
        {
          "data": {
            "image/png": "[encoded data removed]",
            "text/plain": [
              "<Figure size 432x288 with 2 Axes>"
            ]
          },
          "metadata": {},
          "output_type": "display_data"
        }
      ],
      "source": [
        "# Creating Confusion Matrix for KNN Classifier\n",
        "cf_matrix_knn=confusion_matrix(expected_y, predicted_y)\n",
        "ax=plt.subplot()\n",
        "sns.heatmap(cf_matrix_knn, cmap='Blues', annot=True, linewidths=1, fmt = 'd', ax=ax)\n",
        "ax.set_xlabel('Predicted Class');ax.set_ylabel('True Class')\n",
        "ax.set_title('Confusion Matrix')\n",
        "ax.xaxis.set_ticklabels(['Normal', 'Pneumonia']); ax.yaxis.set_ticklabels(['Normal', 'Pneumonia'])\n",
        "accuracy_score(expected_y, predicted_y)"
      ]
    }
  ],
  "metadata": {
    "colab": {
      "collapsed_sections": [],
      "name": "Pneumonia_The_Hybrid_CNN_Model_with_ML_Classifiers (1).ipynb",
      "provenance": []
    },
    "kernelspec": {
      "display_name": "Python 3",
      "language": "python",
      "name": "python3"
    },
    "language_info": {
      "codemirror_mode": {
        "name": "ipython",
        "version": 3
      },
      "file_extension": ".py",
      "mimetype": "text/x-python",
      "name": "python",
      "nbconvert_exporter": "python",
      "pygments_lexer": "ipython3",
      "version": "3.8.5"
    },
    "accelerator": "GPU"
  },
  "nbformat": 4,
  "nbformat_minor": 0
}