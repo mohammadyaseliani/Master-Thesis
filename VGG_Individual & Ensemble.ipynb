{
  "nbformat": 4,
  "nbformat_minor": 0,
  "metadata": {
    "accelerator": "GPU",
    "colab": {
      "name": "VGG_Ensemble.ipynb",
      "provenance": [],
      "collapsed_sections": []
    },
    "kernelspec": {
      "display_name": "Python 3",
      "language": "python",
      "name": "python3"
    },
    "language_info": {
      "codemirror_mode": {
        "name": "ipython",
        "version": 3
      },
      "file_extension": ".py",
      "mimetype": "text/x-python",
      "name": "python",
      "nbconvert_exporter": "python",
      "pygments_lexer": "ipython3",
      "version": "3.8.5"
    }
  },
  "cells": [
    {
      "cell_type": "code",
      "metadata": {
        "id": "9K7e9xEwCqAA"
      },
      "source": [
        "# Importing the Necessary Libraries\n",
        "from tensorflow.keras.layers import Input, Dense, Flatten, Dropout\n",
        "from tensorflow.keras.models import Model\n",
        "from tensorflow.keras.models import load_model\n",
        "from tensorflow.keras.applications.vgg16 import VGG16\n",
        "from tensorflow.keras.applications.vgg19 import VGG19\n",
        "from tensorflow.keras.preprocessing.image import ImageDataGenerator\n",
        "from google.colab import drive\n",
        "from tensorflow.keras.layers import concatenate\n",
        "from tensorflow.keras import optimizers\n",
        "import numpy as np\n",
        "import matplotlib.pyplot as plt\n",
        "from glob import glob\n",
        "from sklearn.metrics import confusion_matrix\n",
        "from sklearn.metrics import classification_report\n",
        "from sklearn.metrics import accuracy_score\n",
        "import seaborn as sns\n",
        "from tensorflow.keras.callbacks import ModelCheckpoint\n",
        "from datetime import datetime"
      ],
      "execution_count": 1,
      "outputs": []
    },
    {
      "cell_type": "code",
      "metadata": {
        "colab": {
          "base_uri": "https://localhost:8080/"
        },
        "id": "txWFB5K-C_eu",
        "outputId": "dee47187-a5c8-4a7f-a0c2-e9655b1f6f19"
      },
      "source": [
        "# Connecting to Google Drive\n",
        "drive.mount('/content/drive')"
      ],
      "execution_count": 2,
      "outputs": [
        {
          "output_type": "stream",
          "name": "stdout",
          "text": [
            "Mounted at /content/drive\n"
          ]
        }
      ]
    },
    {
      "cell_type": "code",
      "metadata": {
        "id": "QKTMN6puDIix"
      },
      "source": [
        "# Defining the Training and Test Path\n",
        "train_path = '/content/drive/MyDrive/Dataset/train'\n",
        "test_path = '/content/drive/MyDrive/Dataset/test'"
      ],
      "execution_count": 7,
      "outputs": []
    },
    {
      "cell_type": "code",
      "metadata": {
        "colab": {
          "base_uri": "https://localhost:8080/"
        },
        "id": "KF7-ZO5yfAYl",
        "outputId": "6c615faa-55b6-452a-f735-34f14cbb2676"
      },
      "source": [
        "# Checking the Number of Folders/Classes (Normal and Pneumonia)\n",
        "folders = glob('/content/drive/MyDrive/Dataset/train/*')\n",
        "print(len(folders))"
      ],
      "execution_count": null,
      "outputs": [
        {
          "output_type": "stream",
          "name": "stdout",
          "text": [
            "2\n"
          ]
        }
      ]
    },
    {
      "cell_type": "code",
      "metadata": {
        "id": "015znwZ7KGBc"
      },
      "source": [
        "# The Settings for Generating the Training Set\n",
        "train_datagen = ImageDataGenerator(\n",
        "    rescale=1./255,\n",
        "    shear_range=0.2,\n",
        "    zoom_range=0.2,\n",
        "    horizontal_flip=True)"
      ],
      "execution_count": null,
      "outputs": []
    },
    {
      "cell_type": "code",
      "metadata": {
        "id": "0we3EB_HKGGD"
      },
      "source": [
        "# The Settings for Generating the Test Set  \n",
        "test_datagen = ImageDataGenerator(\n",
        "    rescale=1./255)"
      ],
      "execution_count": 3,
      "outputs": []
    },
    {
      "cell_type": "code",
      "metadata": {
        "colab": {
          "base_uri": "https://localhost:8080/"
        },
        "id": "XGPlrCmmKGIb",
        "outputId": "92c76f81-ee27-45b5-f365-509c980f4438"
      },
      "source": [
        "# Generating the Training Set \n",
        "train_set = train_datagen.flow_from_directory(train_path,\n",
        "                                                target_size = (224, 224),\n",
        "                                                batch_size=32,\n",
        "                                                 class_mode = 'categorical')"
      ],
      "execution_count": null,
      "outputs": [
        {
          "output_type": "stream",
          "name": "stdout",
          "text": [
            "Found 4686 images belonging to 2 classes.\n"
          ]
        }
      ]
    },
    {
      "cell_type": "code",
      "metadata": {
        "colab": {
          "base_uri": "https://localhost:8080/"
        },
        "id": "pbKCyIJIKQm0",
        "outputId": "a9c5e4a9-492b-4da9-9b46-9eb1bbd47cde"
      },
      "source": [
        "# Generating the Test Set \n",
        "test_set = test_datagen.flow_from_directory(test_path,\n",
        "                                            target_size = (224, 224),\n",
        "                                            shuffle=False,\n",
        "                                            batch_size=32,\n",
        "                                            class_mode = 'categorical')"
      ],
      "execution_count": 8,
      "outputs": [
        {
          "output_type": "stream",
          "name": "stdout",
          "text": [
            "Found 1170 images belonging to 2 classes.\n"
          ]
        }
      ]
    },
    {
      "cell_type": "code",
      "metadata": {
        "id": "jOtM5RB-fL_5"
      },
      "source": [
        "# Defining the Input Shape\n",
        "input_tensor=Input(shape=(224,224,3))"
      ],
      "execution_count": null,
      "outputs": []
    },
    {
      "cell_type": "code",
      "metadata": {
        "id": "3IEK855EDJM5",
        "colab": {
          "base_uri": "https://localhost:8080/"
        },
        "outputId": "65868e80-6c61-4c2f-e87f-e67c10e89dae"
      },
      "source": [
        "base_model1 = VGG16(input_tensor=input_tensor, weights='imagenet', include_top=False)\n",
        "# Extracting the Features\n",
        "features1 = base_model1.output\n",
        "for layer in base_model1.layers: \n",
        "  layer.trainable=True  # All layers are trainble"
      ],
      "execution_count": null,
      "outputs": [
        {
          "output_type": "stream",
          "name": "stdout",
          "text": [
            "Downloading data from https://storage.googleapis.com/tensorflow/keras-applications/vgg16/vgg16_weights_tf_dim_ordering_tf_kernels_notop.h5\n",
            "58892288/58889256 [==============================] - 0s 0us/step\n",
            "58900480/58889256 [==============================] - 0s 0us/step\n"
          ]
        }
      ]
    },
    {
      "cell_type": "code",
      "metadata": {
        "id": "98_q7ATBesvO"
      },
      "source": [
        "# Creating FC Layers\n",
        "x = Flatten(name='flatten')(features1)\n",
        "x = Dense(4096, activation='relu', name='fc1')(x)\n",
        "x = Dropout(0.5)(x)\n",
        "x = Dense(4096, activation='relu', name='fc2')(x)\n",
        "x = Dropout(0.5)(x)\n",
        "x = Dense(len(folders), activation='softmax', name='predictions')(x)"
      ],
      "execution_count": null,
      "outputs": []
    },
    {
      "cell_type": "code",
      "metadata": {
        "id": "4Khp1GP3fE7N"
      },
      "source": [
        "# Creating the Final Hybrid CNN Model\n",
        "vgg16 = Model(inputs=input_tensor, outputs=x)"
      ],
      "execution_count": null,
      "outputs": []
    },
    {
      "cell_type": "code",
      "metadata": {
        "id": "kh1MzTlsfrm-"
      },
      "source": [
        "# Setting the Weight Optimizer and Loss Function\n",
        "sgd = optimizers.SGD()\n",
        "vgg16.compile(loss='binary_crossentropy',\n",
        "              optimizer=sgd,\n",
        "              metrics=['accuracy'])"
      ],
      "execution_count": null,
      "outputs": []
    },
    {
      "cell_type": "code",
      "metadata": {
        "colab": {
          "base_uri": "https://localhost:8080/"
        },
        "id": "80oSuX1OgDet",
        "outputId": "1d7ed11c-77d9-44a0-d483-d2062efcca33"
      },
      "source": [
        "# Saving the Weight Parameters, When Achieving a Higher Test Accuracy\n",
        "checkpoint = ModelCheckpoint(filepath='/content/drive/MyDrive/VGG16.h5', \n",
        "                               monitor='val_accuracy', verbose=1, save_best_only=True)\n",
        "\n",
        "callbacks = [checkpoint]\n",
        "\n",
        "start = datetime.now()\n",
        "\n",
        "# Training the Hybrid Model\n",
        "vgg16_history=vgg16.fit(\n",
        "    train_set,\n",
        "  validation_data=test_set,\n",
        "  epochs=20,\n",
        "    callbacks=callbacks ,verbose=1)\n",
        "\n",
        "duration = datetime.now() - start\n",
        "print(\"Training time: \", duration)"
      ],
      "execution_count": null,
      "outputs": [
        {
          "output_type": "stream",
          "name": "stdout",
          "text": [
            "Epoch 1/20\n",
            "147/147 [==============================] - ETA: 0s - loss: 0.4667 - accuracy: 0.7695\n",
            "Epoch 1: val_accuracy improved from -inf to 0.86752, saving model to /content/drive/MyDrive/VGG16.h5\n",
            "147/147 [==============================] - 184s 1s/step - loss: 0.4667 - accuracy: 0.7695 - val_loss: 0.2875 - val_accuracy: 0.8675\n",
            "Epoch 2/20\n",
            "147/147 [==============================] - ETA: 0s - loss: 0.2236 - accuracy: 0.9127\n",
            "Epoch 2: val_accuracy improved from 0.86752 to 0.94615, saving model to /content/drive/MyDrive/VGG16.h5\n",
            "147/147 [==============================] - 183s 1s/step - loss: 0.2236 - accuracy: 0.9127 - val_loss: 0.1319 - val_accuracy: 0.9462\n",
            "Epoch 3/20\n",
            "147/147 [==============================] - ETA: 0s - loss: 0.1578 - accuracy: 0.9407\n",
            "Epoch 3: val_accuracy improved from 0.94615 to 0.95983, saving model to /content/drive/MyDrive/VGG16.h5\n",
            "147/147 [==============================] - 183s 1s/step - loss: 0.1578 - accuracy: 0.9407 - val_loss: 0.1032 - val_accuracy: 0.9598\n",
            "Epoch 4/20\n",
            "147/147 [==============================] - ETA: 0s - loss: 0.1434 - accuracy: 0.9458\n",
            "Epoch 4: val_accuracy did not improve from 0.95983\n",
            "147/147 [==============================] - 181s 1s/step - loss: 0.1434 - accuracy: 0.9458 - val_loss: 0.1204 - val_accuracy: 0.9496\n",
            "Epoch 5/20\n",
            "147/147 [==============================] - ETA: 0s - loss: 0.1275 - accuracy: 0.9548\n",
            "Epoch 5: val_accuracy did not improve from 0.95983\n",
            "147/147 [==============================] - 179s 1s/step - loss: 0.1275 - accuracy: 0.9548 - val_loss: 0.2207 - val_accuracy: 0.9205\n",
            "Epoch 6/20\n",
            "147/147 [==============================] - ETA: 0s - loss: 0.1182 - accuracy: 0.9550\n",
            "Epoch 6: val_accuracy improved from 0.95983 to 0.97265, saving model to /content/drive/MyDrive/VGG16.h5\n",
            "147/147 [==============================] - 183s 1s/step - loss: 0.1182 - accuracy: 0.9550 - val_loss: 0.0728 - val_accuracy: 0.9726\n",
            "Epoch 7/20\n",
            "147/147 [==============================] - ETA: 0s - loss: 0.1226 - accuracy: 0.9543\n",
            "Epoch 7: val_accuracy did not improve from 0.97265\n",
            "147/147 [==============================] - 181s 1s/step - loss: 0.1226 - accuracy: 0.9543 - val_loss: 0.1295 - val_accuracy: 0.9513\n",
            "Epoch 8/20\n",
            "147/147 [==============================] - ETA: 0s - loss: 0.1046 - accuracy: 0.9614\n",
            "Epoch 8: val_accuracy improved from 0.97265 to 0.97350, saving model to /content/drive/MyDrive/VGG16.h5\n",
            "147/147 [==============================] - 184s 1s/step - loss: 0.1046 - accuracy: 0.9614 - val_loss: 0.0705 - val_accuracy: 0.9735\n",
            "Epoch 9/20\n",
            "147/147 [==============================] - ETA: 0s - loss: 0.0928 - accuracy: 0.9701\n",
            "Epoch 9: val_accuracy did not improve from 0.97350\n",
            "147/147 [==============================] - 184s 1s/step - loss: 0.0928 - accuracy: 0.9701 - val_loss: 0.1273 - val_accuracy: 0.9504\n",
            "Epoch 10/20\n",
            "147/147 [==============================] - ETA: 0s - loss: 0.0928 - accuracy: 0.9644\n",
            "Epoch 10: val_accuracy improved from 0.97350 to 0.97436, saving model to /content/drive/MyDrive/VGG16.h5\n",
            "147/147 [==============================] - 187s 1s/step - loss: 0.0928 - accuracy: 0.9644 - val_loss: 0.0634 - val_accuracy: 0.9744\n",
            "Epoch 11/20\n",
            "147/147 [==============================] - ETA: 0s - loss: 0.0881 - accuracy: 0.9697\n",
            "Epoch 11: val_accuracy did not improve from 0.97436\n",
            "147/147 [==============================] - 184s 1s/step - loss: 0.0881 - accuracy: 0.9697 - val_loss: 0.0620 - val_accuracy: 0.9744\n",
            "Epoch 12/20\n",
            "147/147 [==============================] - ETA: 0s - loss: 0.0861 - accuracy: 0.9691\n",
            "Epoch 12: val_accuracy improved from 0.97436 to 0.97607, saving model to /content/drive/MyDrive/VGG16.h5\n",
            "147/147 [==============================] - 189s 1s/step - loss: 0.0861 - accuracy: 0.9691 - val_loss: 0.0662 - val_accuracy: 0.9761\n",
            "Epoch 13/20\n",
            "147/147 [==============================] - ETA: 0s - loss: 0.0832 - accuracy: 0.9710\n",
            "Epoch 13: val_accuracy did not improve from 0.97607\n",
            "147/147 [==============================] - 187s 1s/step - loss: 0.0832 - accuracy: 0.9710 - val_loss: 0.1039 - val_accuracy: 0.9607\n",
            "Epoch 14/20\n",
            "147/147 [==============================] - ETA: 0s - loss: 0.0830 - accuracy: 0.9708\n",
            "Epoch 14: val_accuracy did not improve from 0.97607\n",
            "147/147 [==============================] - 185s 1s/step - loss: 0.0830 - accuracy: 0.9708 - val_loss: 0.0902 - val_accuracy: 0.9658\n",
            "Epoch 15/20\n",
            "147/147 [==============================] - ETA: 0s - loss: 0.0759 - accuracy: 0.9735\n",
            "Epoch 15: val_accuracy improved from 0.97607 to 0.97778, saving model to /content/drive/MyDrive/VGG16.h5\n",
            "147/147 [==============================] - 189s 1s/step - loss: 0.0759 - accuracy: 0.9735 - val_loss: 0.0599 - val_accuracy: 0.9778\n",
            "Epoch 16/20\n",
            "147/147 [==============================] - ETA: 0s - loss: 0.0754 - accuracy: 0.9718\n",
            "Epoch 16: val_accuracy did not improve from 0.97778\n",
            "147/147 [==============================] - 186s 1s/step - loss: 0.0754 - accuracy: 0.9718 - val_loss: 0.0803 - val_accuracy: 0.9709\n",
            "Epoch 17/20\n",
            "147/147 [==============================] - ETA: 0s - loss: 0.0787 - accuracy: 0.9738\n",
            "Epoch 17: val_accuracy did not improve from 0.97778\n",
            "147/147 [==============================] - 184s 1s/step - loss: 0.0787 - accuracy: 0.9738 - val_loss: 0.1056 - val_accuracy: 0.9615\n",
            "Epoch 18/20\n",
            "147/147 [==============================] - ETA: 0s - loss: 0.0582 - accuracy: 0.9791\n",
            "Epoch 18: val_accuracy did not improve from 0.97778\n",
            "147/147 [==============================] - 183s 1s/step - loss: 0.0582 - accuracy: 0.9791 - val_loss: 0.0793 - val_accuracy: 0.9667\n",
            "Epoch 19/20\n",
            "147/147 [==============================] - ETA: 0s - loss: 0.0766 - accuracy: 0.9725\n",
            "Epoch 19: val_accuracy did not improve from 0.97778\n",
            "147/147 [==============================] - 185s 1s/step - loss: 0.0766 - accuracy: 0.9725 - val_loss: 0.0559 - val_accuracy: 0.9778\n",
            "Epoch 20/20\n",
            "147/147 [==============================] - ETA: 0s - loss: 0.0690 - accuracy: 0.9733\n",
            "Epoch 20: val_accuracy did not improve from 0.97778\n",
            "147/147 [==============================] - 186s 1s/step - loss: 0.0690 - accuracy: 0.9733 - val_loss: 0.0596 - val_accuracy: 0.9778\n",
            "Training time:  1:02:02.690891\n"
          ]
        }
      ]
    },
    {
      "cell_type": "code",
      "source": [
        "# Importing Model 2 (VGG19)\n",
        "base_model2 = VGG19(input_tensor=input_tensor, weights='imagenet', include_top=False)\n",
        "# Extracting the Features\n",
        "features2 = base_model2.output\n",
        "for layer in base_model2.layers: \n",
        "  layer.trainable=True  # All layers are trainble"
      ],
      "metadata": {
        "id": "bvAcGi-BkO15"
      },
      "execution_count": null,
      "outputs": []
    },
    {
      "cell_type": "code",
      "source": [
        "# Creating FC Layers\n",
        "x = Flatten(name='flatten')(features2)\n",
        "x = Dense(4096, activation='relu', name='fc1')(x)\n",
        "x = Dropout(0.5)(x)\n",
        "x = Dense(4096, activation='relu', name='fc2')(x)\n",
        "x = Dropout(0.5)(x)\n",
        "x = Dense(len(folders), activation='softmax', name='predictions')(x)"
      ],
      "metadata": {
        "id": "u6jy2qwAkTS7"
      },
      "execution_count": null,
      "outputs": []
    },
    {
      "cell_type": "code",
      "source": [
        "vgg19 = Model(inputs=input_tensor, outputs=x)"
      ],
      "metadata": {
        "id": "Pntg-exkkcJg"
      },
      "execution_count": null,
      "outputs": []
    },
    {
      "cell_type": "code",
      "source": [
        "vgg19.compile(loss='binary_crossentropy',\n",
        "              optimizer=sgd,\n",
        "              metrics=['accuracy'])"
      ],
      "metadata": {
        "id": "GapdaoRjmeQ6"
      },
      "execution_count": null,
      "outputs": []
    },
    {
      "cell_type": "code",
      "source": [
        "# Saving the Weight Parameters, When Achieving a Higher Test Accuracy\n",
        "checkpoint = ModelCheckpoint(filepath='/content/drive/MyDrive/VGG19.h5', \n",
        "                               monitor='val_accuracy', verbose=1, save_best_only=True)\n",
        "\n",
        "callbacks = [checkpoint]\n",
        "\n",
        "start = datetime.now()\n",
        "\n",
        "# Training the Hybrid Model\n",
        "vgg19_history=vgg19.fit(\n",
        "    train_set,\n",
        "  validation_data=test_set,\n",
        "  epochs=20,\n",
        "    callbacks=callbacks ,verbose=1)\n",
        "\n",
        "duration = datetime.now() - start\n",
        "print(\"Training time: \", duration)"
      ],
      "metadata": {
        "colab": {
          "base_uri": "https://localhost:8080/"
        },
        "id": "fKNnQg8WkcNg",
        "outputId": "3f370861-f9b2-4e9c-c6d3-76a1a5958d63"
      },
      "execution_count": null,
      "outputs": [
        {
          "output_type": "stream",
          "name": "stdout",
          "text": [
            "Epoch 1/20\n",
            "147/147 [==============================] - ETA: 0s - loss: 0.4835 - accuracy: 0.7732\n",
            "Epoch 1: val_accuracy improved from -inf to 0.91795, saving model to /content/drive/MyDrive/VGG19.h5\n",
            "147/147 [==============================] - 139s 938ms/step - loss: 0.4835 - accuracy: 0.7732 - val_loss: 0.1962 - val_accuracy: 0.9179\n",
            "Epoch 2/20\n",
            "147/147 [==============================] - ETA: 0s - loss: 0.2148 - accuracy: 0.9185\n",
            "Epoch 2: val_accuracy improved from 0.91795 to 0.95214, saving model to /content/drive/MyDrive/VGG19.h5\n",
            "147/147 [==============================] - 142s 962ms/step - loss: 0.2148 - accuracy: 0.9185 - val_loss: 0.1346 - val_accuracy: 0.9521\n",
            "Epoch 3/20\n",
            "147/147 [==============================] - ETA: 0s - loss: 0.1902 - accuracy: 0.9309\n",
            "Epoch 3: val_accuracy did not improve from 0.95214\n",
            "147/147 [==============================] - 138s 940ms/step - loss: 0.1902 - accuracy: 0.9309 - val_loss: 0.1377 - val_accuracy: 0.9402\n",
            "Epoch 4/20\n",
            "147/147 [==============================] - ETA: 0s - loss: 0.1561 - accuracy: 0.9407\n",
            "Epoch 4: val_accuracy improved from 0.95214 to 0.95983, saving model to /content/drive/MyDrive/VGG19.h5\n",
            "147/147 [==============================] - 141s 960ms/step - loss: 0.1561 - accuracy: 0.9407 - val_loss: 0.1005 - val_accuracy: 0.9598\n",
            "Epoch 5/20\n",
            "147/147 [==============================] - ETA: 0s - loss: 0.1384 - accuracy: 0.9486\n",
            "Epoch 5: val_accuracy did not improve from 0.95983\n",
            "147/147 [==============================] - 140s 946ms/step - loss: 0.1384 - accuracy: 0.9486 - val_loss: 0.1015 - val_accuracy: 0.9590\n",
            "Epoch 6/20\n",
            "147/147 [==============================] - ETA: 0s - loss: 0.1354 - accuracy: 0.9526\n",
            "Epoch 6: val_accuracy did not improve from 0.95983\n",
            "147/147 [==============================] - 139s 947ms/step - loss: 0.1354 - accuracy: 0.9526 - val_loss: 0.0978 - val_accuracy: 0.9590\n",
            "Epoch 7/20\n",
            "147/147 [==============================] - ETA: 0s - loss: 0.1147 - accuracy: 0.9590\n",
            "Epoch 7: val_accuracy improved from 0.95983 to 0.97265, saving model to /content/drive/MyDrive/VGG19.h5\n",
            "147/147 [==============================] - 149s 1s/step - loss: 0.1147 - accuracy: 0.9590 - val_loss: 0.0725 - val_accuracy: 0.9726\n",
            "Epoch 8/20\n",
            "147/147 [==============================] - ETA: 0s - loss: 0.1090 - accuracy: 0.9595\n",
            "Epoch 8: val_accuracy improved from 0.97265 to 0.97436, saving model to /content/drive/MyDrive/VGG19.h5\n",
            "147/147 [==============================] - 144s 980ms/step - loss: 0.1090 - accuracy: 0.9595 - val_loss: 0.0650 - val_accuracy: 0.9744\n",
            "Epoch 9/20\n",
            "147/147 [==============================] - ETA: 0s - loss: 0.1052 - accuracy: 0.9609\n",
            "Epoch 9: val_accuracy did not improve from 0.97436\n",
            "147/147 [==============================] - 136s 923ms/step - loss: 0.1052 - accuracy: 0.9609 - val_loss: 0.0660 - val_accuracy: 0.9744\n",
            "Epoch 10/20\n",
            "147/147 [==============================] - ETA: 0s - loss: 0.1054 - accuracy: 0.9612\n",
            "Epoch 10: val_accuracy did not improve from 0.97436\n",
            "147/147 [==============================] - 134s 908ms/step - loss: 0.1054 - accuracy: 0.9612 - val_loss: 0.1159 - val_accuracy: 0.9564\n",
            "Epoch 11/20\n",
            "147/147 [==============================] - ETA: 0s - loss: 0.0931 - accuracy: 0.9656\n",
            "Epoch 11: val_accuracy did not improve from 0.97436\n",
            "147/147 [==============================] - 134s 909ms/step - loss: 0.0931 - accuracy: 0.9656 - val_loss: 0.0689 - val_accuracy: 0.9692\n",
            "Epoch 12/20\n",
            "147/147 [==============================] - ETA: 0s - loss: 0.0857 - accuracy: 0.9684\n",
            "Epoch 12: val_accuracy did not improve from 0.97436\n",
            "147/147 [==============================] - 134s 908ms/step - loss: 0.0857 - accuracy: 0.9684 - val_loss: 0.0639 - val_accuracy: 0.9709\n",
            "Epoch 13/20\n",
            "147/147 [==============================] - ETA: 0s - loss: 0.0915 - accuracy: 0.9676\n",
            "Epoch 13: val_accuracy did not improve from 0.97436\n",
            "147/147 [==============================] - 134s 906ms/step - loss: 0.0915 - accuracy: 0.9676 - val_loss: 0.0692 - val_accuracy: 0.9744\n",
            "Epoch 14/20\n",
            "147/147 [==============================] - ETA: 0s - loss: 0.0856 - accuracy: 0.9686\n",
            "Epoch 14: val_accuracy improved from 0.97436 to 0.97692, saving model to /content/drive/MyDrive/VGG19.h5\n",
            "147/147 [==============================] - 138s 937ms/step - loss: 0.0856 - accuracy: 0.9686 - val_loss: 0.0589 - val_accuracy: 0.9769\n",
            "Epoch 15/20\n",
            "147/147 [==============================] - ETA: 0s - loss: 0.0920 - accuracy: 0.9665\n",
            "Epoch 15: val_accuracy did not improve from 0.97692\n",
            "147/147 [==============================] - 135s 914ms/step - loss: 0.0920 - accuracy: 0.9665 - val_loss: 0.0756 - val_accuracy: 0.9718\n",
            "Epoch 16/20\n",
            "147/147 [==============================] - ETA: 0s - loss: 0.0849 - accuracy: 0.9701\n",
            "Epoch 16: val_accuracy did not improve from 0.97692\n",
            "147/147 [==============================] - 134s 907ms/step - loss: 0.0849 - accuracy: 0.9701 - val_loss: 0.0766 - val_accuracy: 0.9718\n",
            "Epoch 17/20\n",
            "147/147 [==============================] - ETA: 0s - loss: 0.0723 - accuracy: 0.9757\n",
            "Epoch 17: val_accuracy did not improve from 0.97692\n",
            "147/147 [==============================] - 134s 908ms/step - loss: 0.0723 - accuracy: 0.9757 - val_loss: 0.0717 - val_accuracy: 0.9667\n",
            "Epoch 18/20\n",
            "147/147 [==============================] - ETA: 0s - loss: 0.0686 - accuracy: 0.9750\n",
            "Epoch 18: val_accuracy did not improve from 0.97692\n",
            "147/147 [==============================] - 134s 912ms/step - loss: 0.0686 - accuracy: 0.9750 - val_loss: 0.1302 - val_accuracy: 0.9590\n",
            "Epoch 19/20\n",
            "147/147 [==============================] - ETA: 0s - loss: 0.0779 - accuracy: 0.9699\n",
            "Epoch 19: val_accuracy did not improve from 0.97692\n",
            "147/147 [==============================] - 135s 913ms/step - loss: 0.0779 - accuracy: 0.9699 - val_loss: 0.0581 - val_accuracy: 0.9752\n",
            "Epoch 20/20\n",
            "147/147 [==============================] - ETA: 0s - loss: 0.0699 - accuracy: 0.9738\n",
            "Epoch 20: val_accuracy did not improve from 0.97692\n",
            "147/147 [==============================] - 137s 930ms/step - loss: 0.0699 - accuracy: 0.9738 - val_loss: 0.1553 - val_accuracy: 0.9513\n",
            "Training time:  0:45:58.565352\n"
          ]
        }
      ]
    },
    {
      "cell_type": "code",
      "metadata": {
        "id": "pBvGWp8KgEUH"
      },
      "source": [
        "# Loading the Saved Model\n",
        "network1 = load_model('/content/drive/MyDrive/VGG16.h5')\n",
        "network2 = load_model('/content/drive/MyDrive/VGG19.h5')"
      ],
      "execution_count": 5,
      "outputs": []
    },
    {
      "cell_type": "code",
      "source": [
        "# Classifying Using VGG16 and VGG19\n",
        "pred_vgg16=network1.predict(test_set)\n",
        "preds_vgg16=np.argmax(pred_vgg16, axis=1)\n",
        "pred_vgg19=network2.predict(test_set)\n",
        "preds_vgg19=np.argmax(pred_vgg19, axis=1)"
      ],
      "metadata": {
        "id": "Ibu_DaiMyGCN"
      },
      "execution_count": 9,
      "outputs": []
    },
    {
      "cell_type": "code",
      "source": [
        "# Creating the Confusion Matrix of VGG16 network\n",
        "cf_matrix=confusion_matrix(test_set.classes, preds_vgg16)\n",
        "ax=plt.figure(figsize=(6,5))\n",
        "ax=plt.subplot()\n",
        "sns.heatmap(cf_matrix, cmap='Blues', annot=True, linewidths=1, fmt = 'd', ax=ax)\n",
        "ax.set_xlabel('Predicted Class');ax.set_ylabel('True Class')\n",
        "ax.set_title('Confusion Matrix')\n",
        "ax.xaxis.set_ticklabels(['Normal', 'Pneumonia']); ax.yaxis.set_ticklabels(['Normal', 'Pneumonia'])"
      ],
      "metadata": {
        "colab": {
          "base_uri": "https://localhost:8080/",
          "height": 367
        },
        "id": "UwwrZgnByCtW",
        "outputId": "fe857035-be4f-444f-d670-a6c3949db789"
      },
      "execution_count": 10,
      "outputs": [
        {
          "output_type": "execute_result",
          "data": {
            "text/plain": [
              "[Text(0, 0.5, 'Normal'), Text(0, 1.5, 'Pneumonia')]"
            ]
          },
          "metadata": {},
          "execution_count": 10
        },
        {
          "output_type": "display_data",
          "data": {
            "text/plain": [
              "<Figure size 432x360 with 2 Axes>"
            ],
            "image/png": "[encoded data removed]"
          },
          "metadata": {
            "needs_background": "light"
          }
        }
      ]
    },
    {
      "cell_type": "code",
      "source": [
        "# Creating the Confusion Matrix of VGG19 network\n",
        "cf_matrix=confusion_matrix(test_set.classes, preds_vgg19)\n",
        "ax=plt.figure(figsize=(6,5))\n",
        "ax=plt.subplot()\n",
        "sns.heatmap(cf_matrix, cmap='Blues', annot=True, linewidths=1, fmt = 'd', ax=ax)\n",
        "ax.set_xlabel('Predicted Class');ax.set_ylabel('True Class')\n",
        "ax.set_title('Confusion Matrix')\n",
        "ax.xaxis.set_ticklabels(['Normal', 'Pneumonia']); ax.yaxis.set_ticklabels(['Normal', 'Pneumonia'])"
      ],
      "metadata": {
        "colab": {
          "base_uri": "https://localhost:8080/",
          "height": 367
        },
        "id": "jm5qp16Sy45x",
        "outputId": "f220634b-6085-4547-cdf1-39dbbadf2200"
      },
      "execution_count": 11,
      "outputs": [
        {
          "output_type": "execute_result",
          "data": {
            "text/plain": [
              "[Text(0, 0.5, 'Normal'), Text(0, 1.5, 'Pneumonia')]"
            ]
          },
          "metadata": {},
          "execution_count": 11
        },
        {
          "output_type": "display_data",
          "data": {
            "text/plain": [
              "<Figure size 432x360 with 2 Axes>"
            ],
            "image/png": "[encoded data removed]"
          },
          "metadata": {
            "needs_background": "light"
          }
        }
      ]
    },
    {
      "cell_type": "code",
      "source": [
        "# Calculating the Class Porbailities Using Both Networks\n",
        "models = [network1, network2]\n",
        "preds_1 = [model.predict(test_set) for model in models]\n",
        "preds_1=np.array(preds_1)"
      ],
      "metadata": {
        "id": "deHcYzmrUeSJ"
      },
      "execution_count": null,
      "outputs": []
    },
    {
      "cell_type": "code",
      "source": [
        "# Creating the Ensemble of VGG16 and VGG19 and Finding the Optimal Weights \n",
        "import pandas as pd\n",
        "df = pd.DataFrame([])\n",
        "\n",
        "for w1 in range(0, 10):\n",
        "    for w2 in range(0,10):\n",
        "                wts = [w1/10.,w2/10.]\n",
        "                wted_preds1 = np.tensordot(preds_1, wts, axes=((0),(0)))\n",
        "                wted_ensemble_pred = np.argmax(wted_preds1, axis=1)\n",
        "                weighted_accuracy = accuracy_score(test_set.classes, wted_ensemble_pred)\n",
        "                df = df.append(pd.DataFrame({'wt1':wts[0],'wt2':wts[1], \n",
        "                                              'acc':weighted_accuracy*100}, index=[0]), ignore_index=True)\n",
        "            \n",
        "max_acc_row = df.iloc[df['acc'].idxmax()]\n",
        "print(\"Max accuracy of \", max_acc_row[2], \" obained with w1=\", max_acc_row[0],\n",
        "      \" w2=\", max_acc_row[1])    "
      ],
      "metadata": {
        "colab": {
          "base_uri": "https://localhost:8080/"
        },
        "id": "OxNqaKcSU_l6",
        "outputId": "ba42ed5d-c4da-4adf-eb44-b4ff26dde15b"
      },
      "execution_count": null,
      "outputs": [
        {
          "output_type": "stream",
          "name": "stdout",
          "text": [
            "Max accuracy of  98.11965811965811  obained with w1= 0.3  w2= 0.2\n"
          ]
        }
      ]
    },
    {
      "cell_type": "code",
      "metadata": {
        "id": "vygDeVvDCaZV"
      },
      "source": [
        "# Classifying Using the Ensemble Model According to the Optimal Weights\n",
        "models = [network1, network2]\n",
        "preds = [model.predict(test_set) for model in models]\n",
        "preds=np.array(preds_1)\n",
        "preds=np.array(preds_1)\n",
        "ideal_weights = [max_acc_row[0], max_acc_row[1]] \n",
        "#Use tensordot to sum the products of all elements over specified axes.\n",
        "ideal_weighted_preds = np.tensordot(preds, ideal_weights, axes=((0),(0)))\n",
        "ideal_weighted_ensemble_prediction = np.argmax(ideal_weighted_preds, axis=1)\n",
        "\n",
        "ideal_weighted_accuracy = accuracy_score(test_set.classes, ideal_weighted_ensemble_prediction)"
      ],
      "execution_count": null,
      "outputs": []
    },
    {
      "cell_type": "code",
      "source": [
        "# Creating the Confusion Matrix of The Ensemble Model\n",
        "cf_matrix=confusion_matrix(test_set.classes, ideal_weighted_ensemble_prediction)\n",
        "ax=plt.figure(figsize=(6,5))\n",
        "ax=plt.subplot()\n",
        "sns.heatmap(cf_matrix, cmap='Blues', annot=True, linewidths=1, fmt = 'd', ax=ax)\n",
        "ax.set_xlabel('Predicted Class');ax.set_ylabel('True Class')\n",
        "ax.set_title('Confusion Matrix')\n",
        "ax.xaxis.set_ticklabels(['Normal', 'Pneumonia']); ax.yaxis.set_ticklabels(['Normal', 'Pneumonia'])"
      ],
      "metadata": {
        "colab": {
          "base_uri": "https://localhost:8080/",
          "height": 367
        },
        "id": "A63A8ySBYZB3",
        "outputId": "da2b3712-9cce-40d1-b34c-e31588a6b5e4"
      },
      "execution_count": null,
      "outputs": [
        {
          "output_type": "execute_result",
          "data": {
            "text/plain": [
              "[Text(0, 0.5, 'Normal'), Text(0, 1.5, 'Pneumonia')]"
            ]
          },
          "metadata": {},
          "execution_count": 18
        },
        {
          "output_type": "display_data",
          "data": {
            "text/plain": [
              "<Figure size 432x360 with 2 Axes>"
            ],
            "image/png": "[encoded data removed]"
          },
          "metadata": {
            "needs_background": "light"
          }
        }
      ]
    }
  ]
}
