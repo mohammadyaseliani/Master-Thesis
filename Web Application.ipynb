{
  "cells": [
    {
      "cell_type": "markdown",
      "metadata": {
        "id": "_aVxiCZrpQqt"
      },
      "source": [
        "### **To Implement the application, run each cell step by step.**"
      ]
    },
    {
      "cell_type": "code",
      "source": [
        "# Installing the Necessary Libraries (Ngork, Streamlit, and gdown)\n",
        "!pip install -q pyngrok\n",
        "!pip install -q streamlit\n",
        "!pip install -q streamlit_ace\n",
        "!pip install --upgrade --no-cache-dir gdown"
      ],
      "metadata": {
        "id": "vmuafZwx5inL"
      },
      "execution_count": null,
      "outputs": []
    },
    {
      "cell_type": "code",
      "source": [
        "# Downloading the Feature Extractor\n",
        "!gdown --id 1ExslKhLc8XV8T0S8lA2wBvHxrLs405vx"
      ],
      "metadata": {
        "id": "BQZc2VIPA59h"
      },
      "execution_count": null,
      "outputs": []
    },
    {
      "cell_type": "code",
      "source": [
        "# Downloading the Logistic Regression (LR) Classifier\n",
        "!gdown --id 1-FkXZzLrOFRY2qbcI9BIouiap1264-ZT"
      ],
      "metadata": {
        "id": "4MuOOBYJA8kZ"
      },
      "execution_count": null,
      "outputs": []
    },
    {
      "cell_type": "code",
      "source": [
        "# Downloading Support Vector Machine-Radial Basis Function (SVM-RBF) Classifier\n",
        "!gdown --id 1-A-4N0APxVN1YZKlVZz2GhUkvywYLMqC"
      ],
      "metadata": {
        "id": "ERbKDb3YWEvn"
      },
      "execution_count": null,
      "outputs": []
    },
    {
      "cell_type": "code",
      "execution_count": null,
      "metadata": {
        "id": "vqdv_5Fwp_8i"
      },
      "outputs": [],
      "source": [
        "%%writefile app.py\n",
        "# Importing the Necessary Libraries for Loading the Models \n",
        "import streamlit as st\n",
        "import tensorflow as tf\n",
        "import pickle\n",
        "@st.cache(allow_output_mutation=True)\n",
        "\n",
        "# The Function of Loading the Hybrid CNN Model for Feature Extraction\n",
        "def load_feature_extractor():\n",
        "  network=tf.keras.models.load_model('/content/ChestVGG_SGD.h5')\n",
        "  model = tf.keras.models.Model(inputs=network.input, outputs=network.layers[41].output)\n",
        "  return model\n",
        "\n",
        "# The Function of Loading Classifiers\n",
        "def load_svm():\n",
        "  with open('/content/svc_rbf.pkl', 'rb') as file:  \n",
        "    svc = pickle.load(file)\n",
        "  return svc\n",
        "def load_lr():\n",
        "  with open('/content/lr.pkl', 'rb') as file:  \n",
        "    lr = pickle.load(file)\n",
        "  return lr\n",
        "\n",
        "# Loading the Model\n",
        "with st.spinner(\"The model is being loaded...\"):\n",
        "  feature_extractor=load_feature_extractor()\n",
        "  svm=load_svm()\n",
        "  lr=load_lr()\n",
        "\n",
        "# The Title and User Guide\n",
        "st.markdown(\"<h1 style='text-align: center; color: black;'>Pneumonia Detection in Chest X-Ray (CXR) Images</h1>\", unsafe_allow_html=True)\n",
        "st.write(\"This web application detects pneumonia cases with an accuracy of 98.55%.\")\n",
        "file = st.file_uploader(\"Please Upload a CXR Image (JPG, PNG, JPEG, or JFIF Format)\", type=[\"jpg\", \"png\", \"jpeg\", \"jfif\"])\n",
        "\n",
        "# Importing the Necessary Libraries for Loading the Input Image and Making Predicitons\n",
        "import cv2\n",
        "from PIL import Image, ImageOps\n",
        "import numpy as np\n",
        "st.set_option('deprecation.showfileUploaderEncoding', False)\n",
        "\n",
        "# The Function of Importing the Image and Predicting Its Corresponding Class \n",
        "def import_and_predict(image_data, feature_extractor, svm, lr):\n",
        "\n",
        "        # Preparing the Image\n",
        "        size = (224,224)    \n",
        "        image = ImageOps.fit(image_data, size, Image.ANTIALIAS)\n",
        "        image = np.asarray(image)\n",
        "        img = cv2.cvtColor(image, cv2.COLOR_BGR2RGB)\n",
        "        img=img/255.      \n",
        "        img_reshape = img[np.newaxis,...]\n",
        "\n",
        "        # Extracting Features of the Image for Predicting Using KNN Classifier\n",
        "        features=feature_extractor.predict(img_reshape)\n",
        "\n",
        "        # Making the Prediction Using KNN Classifier\n",
        "        classifiers=[svm, lr]\n",
        "\n",
        "        preds = [classifier.predict_proba(features) for classifier in classifiers]\n",
        "        preds=np.array(preds)\n",
        "        ideal_weights = [0.4, 0.1] # These optimal values were obtained after experimenting different values \n",
        "\n",
        "        #Use tensordot to sum the products of all elements over specified axes.\n",
        "        ideal_weighted_preds = np.tensordot(preds, ideal_weights, axes=((0),(0)))\n",
        "        ideal_weighted_ensemble_prediction = np.argmax(ideal_weighted_preds, axis=1)\n",
        "\n",
        "        return ideal_weighted_ensemble_prediction\n",
        "\n",
        "# Making the Prediciton\n",
        "if file is None:\n",
        "    st.text(\"Please upload an image file\")\n",
        "else:\n",
        "  image = Image.open(file)\n",
        "  st.image(image, use_column_width=True)\n",
        "  prediction=import_and_predict(image, feature_extractor, svm, lr)\n",
        "  result=\"\"\n",
        "  if prediction==0:\n",
        "    st.success('Normal'.format(result))\n",
        "  if prediction==1:\n",
        "    st.success('Pneumonia'.format(result))"
      ]
    },
    {
      "cell_type": "code",
      "source": [
        "# Downloading Ngrok Necessary Components \n",
        "!wget https://bin.equinox.io/c/4VmDzA7iaHb/ngrok-stable-linux-amd64.zip"
      ],
      "metadata": {
        "id": "eezQQHXL9EhR"
      },
      "execution_count": null,
      "outputs": []
    },
    {
      "cell_type": "code",
      "source": [
        "# Installing Ngrok Necessary Components\n",
        "!unzip ngrok-stable-linux-amd64.zip"
      ],
      "metadata": {
        "id": "Lyv_9Z799Ejg"
      },
      "execution_count": null,
      "outputs": []
    },
    {
      "cell_type": "markdown",
      "metadata": {
        "id": "tPGkLrbHf4m8"
      },
      "source": [
        "### Create an Ngrok account using the following link: https://dashboard.ngrok.com/signup. \n",
        "\n",
        "### To get your Authtoken, go to the 'Your Authtoken' section in your Ngrok account and click on the 'Copy' button."
      ]
    },
    {
      "cell_type": "code",
      "execution_count": null,
      "metadata": {
        "id": "6Ufgbw3NfWPC"
      },
      "outputs": [],
      "source": [
        "# Use Your Authtoken ---> # Example: !./ngrok authtoken 29UX...X1\n",
        "!./ngrok authtoken 261pNX6MxlKhXhxVxLRTPn2fZeU_Krs66Vu2njrMmwxQVLXx"
      ]
    },
    {
      "cell_type": "code",
      "source": [
        "# Running the Application\n",
        "!streamlit run app.py &>/dev/null&"
      ],
      "metadata": {
        "id": "katctiCT5u2k"
      },
      "execution_count": null,
      "outputs": []
    },
    {
      "cell_type": "markdown",
      "metadata": {
        "id": "UrnAbA1jBjm_"
      },
      "source": [
        "### By Running the next cell, a public link is generated which can be used by anyone. Now, open the link with mobile phone browser, take or upload a Chest X-Ray (CXR) image, and get the output. \n"
      ]
    },
    {
      "cell_type": "code",
      "source": [
        "from pyngrok import ngrok\n",
        "public_url = ngrok.connect('8501')\n",
        "public_url"
      ],
      "metadata": {
        "id": "xdz8vIqL5u4x"
      },
      "execution_count": null,
      "outputs": []
    }
  ],
  "metadata": {
    "colab": {
      "collapsed_sections": [],
      "name": "Web Application (12).ipynb",
      "provenance": []
    },
    "kernelspec": {
      "display_name": "Python 3",
      "name": "python3"
    },
    "language_info": {
      "name": "python"
    }
  },
  "nbformat": 4,
  "nbformat_minor": 0
}